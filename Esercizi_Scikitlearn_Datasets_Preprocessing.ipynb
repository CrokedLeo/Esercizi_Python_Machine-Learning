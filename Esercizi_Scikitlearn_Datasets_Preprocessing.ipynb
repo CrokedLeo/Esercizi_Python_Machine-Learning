{
 "cells": [
  {
   "cell_type": "markdown",
   "id": "163d4355",
   "metadata": {},
   "source": [
    "## 1. sklearn.datasets: Caricamento e Generazione di Dataset\n",
    "\n",
    "### Esercizio 1.1 (Base): Esplorazione Dataset Integrati\n",
    "Carica il dataset Wine e analizza le sue caratteristiche principali."
   ]
  },
  {
   "cell_type": "code",
   "execution_count": null,
   "id": "acd0175e",
   "metadata": {},
   "outputs": [],
   "source": [
    "# Esercizio 1.1: Carica il dataset Wine e rispondi alle seguenti domande:\n",
    "# 1. Quanti campioni e feature contiene?\n",
    "# 2. Quante classi ci sono?\n",
    "# 3. Quali sono i nomi delle feature?\n",
    "# 4. Visualizza le prime 3 righe dei dati\n"
   ]
  },
  {
   "cell_type": "code",
   "execution_count": 64,
   "id": "3646e067",
   "metadata": {},
   "outputs": [],
   "source": [
    "from sklearn.datasets import load_wine\n",
    "import pandas as pd\n",
    "\n",
    "wine = load_wine()\n"
   ]
  },
  {
   "cell_type": "code",
   "execution_count": 4,
   "id": "e569be48",
   "metadata": {},
   "outputs": [
    {
     "name": "stdout",
     "output_type": "stream",
     "text": [
      "Campioni: 178, Feature: 13\n"
     ]
    }
   ],
   "source": [
    "# 1. Quanti campioni e feature contiene?\n",
    "n_samples, n_features = wine.data.shape\n",
    "print(f\"Campioni: {n_samples}, Feature: {n_features}\")\n"
   ]
  },
  {
   "cell_type": "code",
   "execution_count": 54,
   "id": "3cb2b912",
   "metadata": {},
   "outputs": [
    {
     "name": "stdout",
     "output_type": "stream",
     "text": [
      "dict_keys(['data', 'target', 'frame', 'target_names', 'DESCR', 'feature_names'])\n"
     ]
    }
   ],
   "source": [
    "print(wine.keys())\n"
   ]
  },
  {
   "cell_type": "code",
   "execution_count": 5,
   "id": "5aeb032f",
   "metadata": {},
   "outputs": [
    {
     "name": "stdout",
     "output_type": "stream",
     "text": [
      "Numero di classi: 3\n"
     ]
    }
   ],
   "source": [
    "# 2. Quante classi ci sono?\n",
    "n_classi = len(set(wine.target))\n",
    "print(f\"Numero di classi: {n_classi}\")\n"
   ]
  },
  {
   "cell_type": "code",
   "execution_count": 6,
   "id": "05adb115",
   "metadata": {},
   "outputs": [
    {
     "name": "stdout",
     "output_type": "stream",
     "text": [
      "nomi feature: ['alcohol', 'malic_acid', 'ash', 'alcalinity_of_ash', 'magnesium', 'total_phenols', 'flavanoids', 'nonflavanoid_phenols', 'proanthocyanins', 'color_intensity', 'hue', 'od280/od315_of_diluted_wines', 'proline']\n"
     ]
    }
   ],
   "source": [
    "# 3. Quali sono i nomi delle feature?\n",
    "feature_names = wine.feature_names\n",
    "print(f\"nomi feature: {feature_names}\")\n"
   ]
  },
  {
   "cell_type": "code",
   "execution_count": 12,
   "id": "305294f9",
   "metadata": {},
   "outputs": [
    {
     "name": "stdout",
     "output_type": "stream",
     "text": [
      "prime 3 righe:\n",
      "   alcohol  malic_acid   ash  alcalinity_of_ash  magnesium  total_phenols  \\\n",
      "0    14.23        1.71  2.43               15.6      127.0           2.80   \n",
      "1    13.20        1.78  2.14               11.2      100.0           2.65   \n",
      "2    13.16        2.36  2.67               18.6      101.0           2.80   \n",
      "\n",
      "   flavanoids  nonflavanoid_phenols  proanthocyanins  color_intensity   hue  \\\n",
      "0        3.06                  0.28             2.29             5.64  1.04   \n",
      "1        2.76                  0.26             1.28             4.38  1.05   \n",
      "2        3.24                  0.30             2.81             5.68  1.03   \n",
      "\n",
      "   od280/od315_of_diluted_wines  proline  \n",
      "0                          3.92   1065.0  \n",
      "1                          3.40   1050.0  \n",
      "2                          3.17   1185.0  \n"
     ]
    }
   ],
   "source": [
    "# 4. Visualizza le prime 3 righe dei dati\n",
    "df = pd.DataFrame(wine.data, columns=feature_names)\n",
    "print(\"prime 3 righe:\")\n",
    "print(df.head(3))\n"
   ]
  },
  {
   "cell_type": "markdown",
   "id": "1fb568cf",
   "metadata": {},
   "source": [
    "### Esercizio 1.2 (Intermedio): Generazione Dataset Personalizzato\n",
    "Crea un dataset sintetico per un problema di classificazione con specifiche caratteristiche."
   ]
  },
  {
   "cell_type": "code",
   "execution_count": null,
   "id": "7d824457",
   "metadata": {},
   "outputs": [],
   "source": [
    "# Esercizio 1.2: Genera un dataset di classificazione con:\n",
    "# - 500 campioni\n",
    "# - 8 feature totali (4 informative, 2 ridondanti)\n",
    "# - 3 classi\n",
    "# - 2 cluster per classe\n",
    "# Poi visualizza le statistiche di base del dataset creato"
   ]
  },
  {
   "cell_type": "code",
   "execution_count": null,
   "id": "1491b8cb",
   "metadata": {},
   "outputs": [],
   "source": [
    "from sklearn.datasets import make_classification\n",
    "import pandas as pd\n"
   ]
  },
  {
   "cell_type": "code",
   "execution_count": 58,
   "id": "bf91e8d4",
   "metadata": {},
   "outputs": [],
   "source": [
    "# Generazione del dataset\n",
    "X, y = make_classification(\n",
    "    n_samples=500,# - 500 campioni\n",
    "    n_features=8,# - 8 feature totali (4 informative, 2 ridondanti)\n",
    "    n_informative=4,\n",
    "    n_redundant=2,\n",
    "    n_classes=3,# - 3 classi\n",
    "    n_clusters_per_class=2,# - 2 cluster per classe\n",
    "    random_state=42\n",
    ")\n"
   ]
  },
  {
   "cell_type": "code",
   "execution_count": 59,
   "id": "ccf06539",
   "metadata": {},
   "outputs": [
    {
     "name": "stdout",
     "output_type": "stream",
     "text": [
      "         Feature1    Feature2    Feature3    Feature4    Feature5    Feature6  \\\n",
      "count  500.000000  500.000000  500.000000  500.000000  500.000000  500.000000   \n",
      "mean     0.027704    0.063435    0.334700    0.092092   -0.040661   -0.305071   \n",
      "std      1.648191    1.016804    1.567857    1.530861    1.457437    1.515622   \n",
      "min     -4.966780   -3.386814   -3.715971   -3.970294   -5.170028   -4.756125   \n",
      "25%     -1.151050   -0.628710   -0.715418   -0.942849   -1.112372   -1.324587   \n",
      "50%      0.079064    0.061462    0.486138    0.146235   -0.082120   -0.216098   \n",
      "75%      1.276206    0.757136    1.403241    1.157614    0.994071    0.807073   \n",
      "max      5.024299    2.562528    5.521261    5.435939    4.058305    4.392493   \n",
      "\n",
      "         Feature7    Feature8      Classe  \n",
      "count  500.000000  500.000000  500.000000  \n",
      "mean     0.388791    0.050137    0.996000  \n",
      "std      1.694436    0.994684    0.815668  \n",
      "min     -5.132732   -2.924925    0.000000  \n",
      "25%     -0.893219   -0.638717    0.000000  \n",
      "50%      0.268277    0.095285    1.000000  \n",
      "75%      1.661729    0.737795    2.000000  \n",
      "max      5.105084    3.495878    2.000000  \n"
     ]
    }
   ],
   "source": [
    "df = pd.DataFrame(X, columns=[f'Feature{i+1}' for i in range(X.shape[1])])\n",
    "df['Classe'] = y\n",
    "\n",
    "print(df.describe())\n"
   ]
  },
  {
   "cell_type": "markdown",
   "id": "e1b985a3",
   "metadata": {},
   "source": [
    "### Esercizio 1.3 (Avanzato): Confronto Dataset Reali vs Sintetici\n",
    "Confronta le caratteristiche del dataset Diabetes con un dataset sintetico di regressione."
   ]
  },
  {
   "cell_type": "code",
   "execution_count": null,
   "id": "821beb5f",
   "metadata": {},
   "outputs": [],
   "source": [
    "# Esercizio 1.3: \n",
    "# 1. Carica il dataset Diabetes\n",
    "# 2. Crea un dataset sintetico di regressione con le stesse dimensioni\n",
    "# 3. Confronta le statistiche (media, std, range) delle feature"
   ]
  },
  {
   "cell_type": "code",
   "execution_count": null,
   "id": "b3a79cd9",
   "metadata": {},
   "outputs": [],
   "source": [
    "from sklearn.datasets import load_diabetes, make_regression\n",
    "import pandas as pd\n"
   ]
  },
  {
   "cell_type": "code",
   "execution_count": 25,
   "id": "d35feb8b",
   "metadata": {},
   "outputs": [],
   "source": [
    "# 1. Carica il dataset Diabetes\n",
    "diabetes = load_diabetes()\n",
    "X_real = diabetes.data\n",
    "y_real = diabetes.target\n",
    "feature_names = diabetes.feature_names\n"
   ]
  },
  {
   "cell_type": "code",
   "execution_count": null,
   "id": "0ed173ca",
   "metadata": {},
   "outputs": [],
   "source": [
    "# 2. Crea un dataset sintetico di regressione con le stesse dimensioni\n",
    "\n",
    "X_sint, y_sint = make_regression(\n",
    "    n_samples=X_real.shape[0],\n",
    "    n_features=X_real.shape[1],\n",
    "    noise=10,\n",
    "    random_state=42\n",
    ")\n"
   ]
  },
  {
   "cell_type": "code",
   "execution_count": 28,
   "id": "a092a283",
   "metadata": {},
   "outputs": [],
   "source": [
    "# 3. Confronta le statistiche: media, std, min, max\n",
    "df_real = pd.DataFrame(X_real, columns=feature_names)\n",
    "df_sint = pd.DataFrame(X_sint, columns=feature_names)\n"
   ]
  },
  {
   "cell_type": "code",
   "execution_count": 32,
   "id": "ccc11a89",
   "metadata": {},
   "outputs": [
    {
     "name": "stdout",
     "output_type": "stream",
     "text": [
      "Stat Reali\n",
      "               age           sex           bmi            bp            s1  \\\n",
      "mean -2.511817e-19  1.230790e-17 -2.245564e-16 -4.797570e-17 -1.381499e-17   \n",
      "std   4.761905e-02  4.761905e-02  4.761905e-02  4.761905e-02  4.761905e-02   \n",
      "min  -1.072256e-01 -4.464164e-02 -9.027530e-02 -1.123988e-01 -1.267807e-01   \n",
      "max   1.107267e-01  5.068012e-02  1.705552e-01  1.320436e-01  1.539137e-01   \n",
      "\n",
      "                s2            s3            s4            s5            s6  \n",
      "mean  3.918434e-17 -5.777179e-18 -9.042540e-18  9.293722e-17  1.130318e-17  \n",
      "std   4.761905e-02  4.761905e-02  4.761905e-02  4.761905e-02  4.761905e-02  \n",
      "min  -1.156131e-01 -1.023071e-01 -7.639450e-02 -1.260971e-01 -1.377672e-01  \n",
      "max   1.987880e-01  1.811791e-01  1.852344e-01  1.335973e-01  1.356118e-01  \n",
      "\n",
      "Stat Sintetici\n",
      "           age       sex       bmi        bp        s1        s2        s3  \\\n",
      "mean -0.005560  0.085763  0.007673 -0.008875  0.058464  0.018350  0.014846   \n",
      "std   1.024488  0.953936  1.035117  1.027511  0.931485  1.054779  0.942739   \n",
      "min  -3.241267 -2.872262 -2.630730 -3.019512 -3.007632 -2.940389 -2.703232   \n",
      "max   3.152057  3.852731  3.926238  2.644343  3.078881  2.985259  2.526932   \n",
      "\n",
      "            s4        s5        s6  \n",
      "mean -0.047884 -0.007454 -0.045088  \n",
      "std   1.004919  0.995153  0.997685  \n",
      "min  -2.704392 -2.991136 -2.839079  \n",
      "max   3.243093  3.137749  2.601683  \n"
     ]
    }
   ],
   "source": [
    "# Calcolo statistiche descrittive\n",
    "stats_real = df_real.describe().loc[['mean', 'std', 'min', 'max']]\n",
    "stats_sint = df_sint.describe().loc[['mean', 'std', 'min', 'max']]\n",
    "\n",
    "print('Stat Reali')\n",
    "print(stats_real)\n",
    "print('\\nStat Sintetici')\n",
    "print(stats_sint)\n"
   ]
  },
  {
   "cell_type": "markdown",
   "id": "dd1d7926",
   "metadata": {},
   "source": [
    "## 2. sklearn.preprocessing: Preprocessing dei Dati\n",
    "\n",
    "### Esercizio 2.1 (Base): Scalatura Dati\n",
    "Applica diverse tecniche di scalatura sui dati del Wine dataset."
   ]
  },
  {
   "cell_type": "code",
   "execution_count": null,
   "id": "cb7301bc",
   "metadata": {},
   "outputs": [],
   "source": [
    "# Esercizio 2.1: Applica StandardScaler e MinMaxScaler al dataset Wine\n",
    "# Confronta i risultati mostrando media e deviazione standard prima e dopo"
   ]
  },
  {
   "cell_type": "code",
   "execution_count": 33,
   "id": "4b8a6bee",
   "metadata": {},
   "outputs": [],
   "source": [
    "from sklearn.datasets import load_wine\n",
    "from sklearn.preprocessing import StandardScaler, MinMaxScaler\n",
    "import pandas as pd\n"
   ]
  },
  {
   "cell_type": "code",
   "execution_count": 34,
   "id": "08779df6",
   "metadata": {},
   "outputs": [],
   "source": [
    "wine = load_wine()\n",
    "X = wine.data\n",
    "feature_names = wine.feature_names\n",
    "\n",
    "df_original = pd.DataFrame(X, columns=feature_names)\n"
   ]
  },
  {
   "cell_type": "code",
   "execution_count": 35,
   "id": "edd1a3fd",
   "metadata": {},
   "outputs": [],
   "source": [
    "# Applica StandardScaler\n",
    "scaler_std = StandardScaler()\n",
    "X_std = scaler_std.fit_transform(X)\n",
    "df_std = pd.DataFrame(X_std, columns=feature_names)\n",
    "\n"
   ]
  },
  {
   "cell_type": "code",
   "execution_count": 36,
   "id": "dcc59153",
   "metadata": {},
   "outputs": [],
   "source": [
    "# Applica MinMaxScaler\n",
    "scaler_minmax = MinMaxScaler()\n",
    "X_minmax = scaler_minmax.fit_transform(X)\n",
    "df_minmax = pd.DataFrame(X_minmax, columns=feature_names)\n"
   ]
  },
  {
   "cell_type": "code",
   "execution_count": 53,
   "id": "01c82cd4",
   "metadata": {},
   "outputs": [
    {
     "name": "stdout",
     "output_type": "stream",
     "text": [
      "Dati originali\n",
      "                                Media  Deviazione Std\n",
      "alcohol                        13.001           0.812\n",
      "malic_acid                      2.336           1.117\n",
      "ash                             2.367           0.274\n",
      "alcalinity_of_ash              19.495           3.340\n",
      "magnesium                      99.742          14.282\n",
      "total_phenols                   2.295           0.626\n",
      "flavanoids                      2.029           0.999\n",
      "nonflavanoid_phenols            0.362           0.124\n",
      "proanthocyanins                 1.591           0.572\n",
      "color_intensity                 5.058           2.318\n",
      "hue                             0.957           0.229\n",
      "od280/od315_of_diluted_wines    2.612           0.710\n",
      "proline                       746.893         314.907\n",
      "StandardScaler\n",
      "                              Media  Deviazione Std\n",
      "alcohol                         0.0           1.003\n",
      "malic_acid                      0.0           1.003\n",
      "ash                            -0.0           1.003\n",
      "alcalinity_of_ash              -0.0           1.003\n",
      "magnesium                      -0.0           1.003\n",
      "total_phenols                  -0.0           1.003\n",
      "flavanoids                      0.0           1.003\n",
      "nonflavanoid_phenols           -0.0           1.003\n",
      "proanthocyanins                -0.0           1.003\n",
      "color_intensity                -0.0           1.003\n",
      "hue                             0.0           1.003\n",
      "od280/od315_of_diluted_wines    0.0           1.003\n",
      "proline                        -0.0           1.003\n",
      "MinMaxScaler\n",
      "                              Media  Deviazione Std\n",
      "alcohol                       0.519           0.214\n",
      "malic_acid                    0.315           0.221\n",
      "ash                           0.538           0.147\n",
      "alcalinity_of_ash             0.459           0.172\n",
      "magnesium                     0.323           0.155\n",
      "total_phenols                 0.453           0.216\n",
      "flavanoids                    0.356           0.211\n",
      "nonflavanoid_phenols          0.437           0.235\n",
      "proanthocyanins               0.373           0.181\n",
      "color_intensity               0.322           0.198\n",
      "hue                           0.388           0.186\n",
      "od280/od315_of_diluted_wines  0.491           0.260\n",
      "proline                       0.334           0.225\n"
     ]
    }
   ],
   "source": [
    "# Funzione per stampare media e std\n",
    "def show_stats(title, df):\n",
    "    print(f\"{title}\")\n",
    "    stats = pd.DataFrame({\n",
    "        \"Media\": df.mean().round(3),\n",
    "        \"Deviazione Std\": df.std().round(3)\n",
    "    })\n",
    "    print(stats)\n",
    "\n",
    "show_stats(\"Dati originali\", df_original)\n",
    "show_stats(\"StandardScaler\", df_std)\n",
    "show_stats(\"MinMaxScaler\", df_minmax)\n"
   ]
  },
  {
   "cell_type": "markdown",
   "id": "78c615bd",
   "metadata": {},
   "source": [
    "### Esercizio 2.2 (Intermedio): Gestione Dati Mancanti\n",
    "Crea e gestisci un dataset con valori mancanti usando diverse strategie di imputazione."
   ]
  },
  {
   "cell_type": "code",
   "execution_count": null,
   "id": "f38564e8",
   "metadata": {},
   "outputs": [],
   "source": [
    "# Esercizio 2.2: \n",
    "# 1. Crea un array con valori mancanti (NaN) in posizioni casuali\n",
    "# 2. Applica SimpleImputer con strategie: 'mean', 'median', 'most_frequent'\n",
    "# 3. Confronta i risultati"
   ]
  },
  {
   "cell_type": "code",
   "execution_count": 43,
   "id": "8f8edd96",
   "metadata": {},
   "outputs": [],
   "source": [
    "import numpy as np\n",
    "from sklearn.impute import SimpleImputer\n",
    "import pandas as pd\n"
   ]
  },
  {
   "cell_type": "code",
   "execution_count": 44,
   "id": "4ccbaac6",
   "metadata": {},
   "outputs": [],
   "source": [
    "# 1. Crea dati con valori mancanti (NaN)\n",
    "data_nan = np.array([\n",
    "    [1, 2, np.nan],\n",
    "    [4, np.nan, 6],\n",
    "    [7, 8, 9]\n",
    "])\n"
   ]
  },
  {
   "cell_type": "code",
   "execution_count": 45,
   "id": "6429a8aa",
   "metadata": {},
   "outputs": [],
   "source": [
    "# 2. Applica le 3 strategie di imputazione\n",
    "strategies = ['mean', 'median', 'most_frequent']\n",
    "results = {}\n",
    "\n",
    "for strategy in strategies:\n",
    "    imputer = SimpleImputer(strategy=strategy)\n",
    "    imputed_data = imputer.fit_transform(data_nan)\n",
    "    results[strategy] = pd.DataFrame(imputed_data, columns=[\"Col1\", \"Col2\", \"Col3\"])\n"
   ]
  },
  {
   "cell_type": "code",
   "execution_count": 47,
   "id": "128fd490",
   "metadata": {},
   "outputs": [
    {
     "name": "stdout",
     "output_type": "stream",
     "text": [
      "Dati con NaN:\n",
      "   Col1  Col2  Col3\n",
      "0   1.0   2.0   NaN\n",
      "1   4.0   NaN   6.0\n",
      "2   7.0   8.0   9.0\n",
      "\n",
      "Strategia: MEAN\n",
      "   Col1  Col2  Col3\n",
      "0   1.0   2.0   7.5\n",
      "1   4.0   5.0   6.0\n",
      "2   7.0   8.0   9.0\n",
      "\n",
      "Strategia: MEDIAN\n",
      "   Col1  Col2  Col3\n",
      "0   1.0   2.0   7.5\n",
      "1   4.0   5.0   6.0\n",
      "2   7.0   8.0   9.0\n",
      "\n",
      "Strategia: MOST_FREQUENT\n",
      "   Col1  Col2  Col3\n",
      "0   1.0   2.0   6.0\n",
      "1   4.0   2.0   6.0\n",
      "2   7.0   8.0   9.0\n"
     ]
    }
   ],
   "source": [
    "print(\"Dati con NaN:\")\n",
    "print(pd.DataFrame(data_nan, columns=[\"Col1\", \"Col2\", \"Col3\"]))\n",
    "\n",
    "for strategy in strategies:\n",
    "    print(f\"\\nStrategia: {strategy.upper()}\")\n",
    "    print(results[strategy])\n"
   ]
  }
 ],
 "metadata": {
  "kernelspec": {
   "display_name": "base",
   "language": "python",
   "name": "python3"
  },
  "language_info": {
   "codemirror_mode": {
    "name": "ipython",
    "version": 3
   },
   "file_extension": ".py",
   "mimetype": "text/x-python",
   "name": "python",
   "nbconvert_exporter": "python",
   "pygments_lexer": "ipython3",
   "version": "3.12.7"
  }
 },
 "nbformat": 4,
 "nbformat_minor": 5
}
