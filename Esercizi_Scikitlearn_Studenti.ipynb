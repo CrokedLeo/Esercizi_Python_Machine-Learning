{
 "cells": [
  {
   "cell_type": "markdown",
   "id": "163d4355",
   "metadata": {},
   "source": [
    "## 1. sklearn.datasets: Caricamento e Generazione di Dataset\n",
    "\n",
    "### Esercizio 1.1 (Base): Esplorazione Dataset Integrati\n",
    "Carica il dataset Wine e analizza le sue caratteristiche principali."
   ]
  },
  {
   "cell_type": "code",
   "execution_count": 14,
   "id": "acd0175e",
   "metadata": {},
   "outputs": [],
   "source": [
    "# Esercizio 1.1: Carica il dataset Wine e rispondi alle seguenti domande:\n",
    "# 1. Quanti campioni e feature contiene?\n",
    "# 2. Quante classi ci sono?\n",
    "# 3. Quali sono i nomi delle feature?\n",
    "# 4. Visualizza le prime 3 righe dei dati\n"
   ]
  },
  {
   "cell_type": "markdown",
   "id": "1fb568cf",
   "metadata": {},
   "source": [
    "### Esercizio 1.2 (Intermedio): Generazione Dataset Personalizzato\n",
    "Crea un dataset sintetico per un problema di classificazione con specifiche caratteristiche."
   ]
  },
  {
   "cell_type": "code",
   "execution_count": 15,
   "id": "7d824457",
   "metadata": {},
   "outputs": [],
   "source": [
    "# Esercizio 1.2: Genera un dataset di classificazione con:\n",
    "# - 500 campioni\n",
    "# - 8 feature totali (4 informative, 2 ridondanti)\n",
    "# - 3 classi\n",
    "# - 2 cluster per classe\n",
    "# Poi visualizza le statistiche di base del dataset creato"
   ]
  },
  {
   "cell_type": "markdown",
   "id": "e1b985a3",
   "metadata": {},
   "source": [
    "### Esercizio 1.3 (Avanzato): Confronto Dataset Reali vs Sintetici\n",
    "Confronta le caratteristiche del dataset Diabetes con un dataset sintetico di regressione."
   ]
  },
  {
   "cell_type": "code",
   "execution_count": 16,
   "id": "821beb5f",
   "metadata": {},
   "outputs": [],
   "source": [
    "# Esercizio 1.3: \n",
    "# 1. Carica il dataset Diabetes\n",
    "# 2. Crea un dataset sintetico di regressione con le stesse dimensioni\n",
    "# 3. Confronta le statistiche (media, std, range) delle feature"
   ]
  },
  {
   "cell_type": "markdown",
   "id": "dd1d7926",
   "metadata": {},
   "source": [
    "## 2. sklearn.preprocessing: Preprocessing dei Dati\n",
    "\n",
    "### Esercizio 2.1 (Base): Scalatura Dati\n",
    "Applica diverse tecniche di scalatura sui dati del Wine dataset."
   ]
  },
  {
   "cell_type": "code",
   "execution_count": 17,
   "id": "cb7301bc",
   "metadata": {},
   "outputs": [],
   "source": [
    "# Esercizio 2.1: Applica StandardScaler e MinMaxScaler al dataset Wine\n",
    "# Confronta i risultati mostrando media e deviazione standard prima e dopo"
   ]
  },
  {
   "cell_type": "markdown",
   "id": "78c615bd",
   "metadata": {},
   "source": [
    "### Esercizio 2.2 (Intermedio): Gestione Dati Mancanti\n",
    "Crea e gestisci un dataset con valori mancanti usando diverse strategie di imputazione."
   ]
  },
  {
   "cell_type": "code",
   "execution_count": 18,
   "id": "f38564e8",
   "metadata": {},
   "outputs": [],
   "source": [
    "# Esercizio 2.2: \n",
    "# 1. Crea un array con valori mancanti (NaN) in posizioni casuali\n",
    "# 2. Applica SimpleImputer con strategie: 'mean', 'median', 'most_frequent'\n",
    "# 3. Confronta i risultati"
   ]
  },
  {
   "cell_type": "markdown",
   "id": "394a9dc3",
   "metadata": {},
   "source": [
    "## 3. sklearn.model_selection: Suddivisione Dati e Validazione\n",
    "\n",
    "### Esercizio 3.1 (Base): Suddivisione Dati\n",
    "Pratica la suddivisione dei dati con diverse proporzioni e analizza l'impatto."
   ]
  },
  {
   "cell_type": "code",
   "execution_count": 19,
   "id": "a510d216",
   "metadata": {},
   "outputs": [],
   "source": [
    "# Esercizio 3.1: Usa il dataset Iris per sperimentare diverse suddivisioni\n",
    "# Testa: 80-20, 70-30, 60-40 e osserva come cambia la distribuzione delle classi"
   ]
  },
  {
   "cell_type": "code",
   "execution_count": 20,
   "id": "58daefe2",
   "metadata": {},
   "outputs": [],
   "source": [
    "# Esercizio 3.1: Usa il dataset Iris per sperimentare diverse suddivisioni\n",
    "from sklearn.datasets import load_iris\n",
    "from sklearn.model_selection import train_test_split\n",
    "import pandas as pd\n"
   ]
  },
  {
   "cell_type": "code",
   "execution_count": 21,
   "id": "96321b81",
   "metadata": {},
   "outputs": [],
   "source": [
    "# Caricamento del dataset Iris\n",
    "iris = load_iris()\n",
    "X = iris.data\n",
    "y = iris.target\n"
   ]
  },
  {
   "cell_type": "code",
   "execution_count": null,
   "id": "ee9d4ee0",
   "metadata": {},
   "outputs": [
    {
     "name": "stdout",
     "output_type": "stream",
     "text": [
      "Split 80/20\n",
      "Train: 0    40\n",
      "1    40\n",
      "2    40\n",
      "Name: count, dtype: int64\n",
      "Test: 0    10\n",
      "1    10\n",
      "2    10\n",
      "Name: count, dtype: int64\n"
     ]
    }
   ],
   "source": [
    "# Split 80/20\n",
    "X_train, X_test, y_train, y_test = train_test_split(X, y, test_size=0.2, \n",
    "                                                    stratify=y, # Mantiene la stessa distribuzione delle classi\n",
    "                                                    random_state=42)\n",
    "print('Split 80/20')\n",
    "print('Train:', pd.Series(y_train).value_counts().sort_index())\n",
    "print('Test:', pd.Series(y_test).value_counts().sort_index())\n"
   ]
  },
  {
   "cell_type": "code",
   "execution_count": 23,
   "id": "d52bbb0b",
   "metadata": {},
   "outputs": [
    {
     "name": "stdout",
     "output_type": "stream",
     "text": [
      "Split 70/30\n",
      "Train: 0    35\n",
      "1    35\n",
      "2    35\n",
      "Name: count, dtype: int64\n",
      "Test: 0    15\n",
      "1    15\n",
      "2    15\n",
      "Name: count, dtype: int64\n"
     ]
    }
   ],
   "source": [
    "# Split 70/30\n",
    "X_train, X_test, y_train, y_test = train_test_split(X, y, test_size=0.3, stratify=y, random_state=42)\n",
    "\n",
    "\n",
    "print(\"Split 70/30\")\n",
    "print(\"Train:\", pd.Series(y_train).value_counts().sort_index())\n",
    "print(\"Test:\", pd.Series(y_test).value_counts().sort_index())\n"
   ]
  },
  {
   "cell_type": "code",
   "execution_count": 24,
   "id": "23d78877",
   "metadata": {},
   "outputs": [
    {
     "name": "stdout",
     "output_type": "stream",
     "text": [
      "Split 60/40\n",
      "Train: 0    30\n",
      "1    30\n",
      "2    30\n",
      "Name: count, dtype: int64\n",
      "Test: 0    20\n",
      "1    20\n",
      "2    20\n",
      "Name: count, dtype: int64\n"
     ]
    }
   ],
   "source": [
    "X_train, X_test, y_train, y_test = train_test_split(X, y, test_size=0.4, stratify=y, random_state=42)\n",
    "print(\"Split 60/40\")\n",
    "print(\"Train:\", pd.Series(y_train).value_counts().sort_index())\n",
    "print(\"Test:\", pd.Series(y_test).value_counts().sort_index())\n"
   ]
  },
  {
   "cell_type": "markdown",
   "id": "ff4b9283",
   "metadata": {},
   "source": [
    "### Esercizio 3.2 (Intermedio): Validazione Incrociata\n",
    "Implementa diverse strategie di cross-validation e confronta i risultati."
   ]
  },
  {
   "cell_type": "code",
   "execution_count": 30,
   "id": "f6d571c6",
   "metadata": {},
   "outputs": [],
   "source": [
    "# Esercizio 3.2: Applica cross-validation con diversi fold (3, 5, 10) \n",
    "# su un classificatore SVM usando il dataset Wine\n",
    "# Confronta accuracy media e deviazione standard\n",
    "\n",
    "\n",
    "from sklearn.datasets import load_wine\n",
    "from sklearn.svm import SVC\n",
    "from sklearn.model_selection import cross_val_score\n",
    "import numpy as np\n"
   ]
  },
  {
   "cell_type": "code",
   "execution_count": 31,
   "id": "96df2b58",
   "metadata": {},
   "outputs": [],
   "source": [
    "wine = load_wine()\n",
    "X = wine.data\n",
    "y = wine.target"
   ]
  },
  {
   "cell_type": "code",
   "execution_count": 32,
   "id": "0311296e",
   "metadata": {},
   "outputs": [],
   "source": [
    "model = SVC(kernel='linear')  # SVM con kernel lineare\n"
   ]
  },
  {
   "cell_type": "code",
   "execution_count": null,
   "id": "202df4f6",
   "metadata": {},
   "outputs": [
    {
     "name": "stdout",
     "output_type": "stream",
     "text": [
      "3-fold CV\n",
      "  media: 0.9274952919020715\n",
      " std: 0.06974344326606854\n"
     ]
    }
   ],
   "source": [
    "#Esegire cros val\n",
    "\n",
    "scores_3 = cross_val_score(model, X, y, cv=3)\n",
    "print(\"3-fold CV\\n  media:\", scores_3.mean())\n",
    "print(\" std:\", scores_3.std())\n"
   ]
  },
  {
   "cell_type": "code",
   "execution_count": 34,
   "id": "a9db1253",
   "metadata": {},
   "outputs": [
    {
     "name": "stdout",
     "output_type": "stream",
     "text": [
      "5-fold CV\n",
      " media: 0.961111111111111\n",
      " std: 0.041573970964154924\n"
     ]
    }
   ],
   "source": [
    "\n",
    "scores_5= cross_val_score(model, X, y, cv=5)\n",
    "print(\"5-fold CV\\n media:\", scores_5.mean())\n",
    "print(\" std:\", scores_5.std())\n"
   ]
  },
  {
   "cell_type": "code",
   "execution_count": 35,
   "id": "234a6b14",
   "metadata": {},
   "outputs": [
    {
     "name": "stdout",
     "output_type": "stream",
     "text": [
      "10-fold CV\n",
      " media: 0.9555555555555555\n",
      " std: 0.041573970964154924\n"
     ]
    }
   ],
   "source": [
    "\n",
    "scores_10= cross_val_score(model, X, y, cv=10)\n",
    "print(\"10-fold CV\\n media:\", scores_10.mean())\n",
    "print(\" std:\", scores_10.std())\n"
   ]
  },
  {
   "cell_type": "markdown",
   "id": "b3ac4826",
   "metadata": {},
   "source": [
    "### Esercizio 3.3 (Avanzato): Ottimizzazione Iperparametri\n",
    "Confronta GridSearchCV e RandomizedSearchCV per ottimizzare un Random Forest."
   ]
  },
  {
   "cell_type": "code",
   "execution_count": null,
   "id": "14094961",
   "metadata": {},
   "outputs": [],
   "source": [
    "# Esercizio 3.3: Ottimizza un Random Forest usando entrambi i metodi\n",
    "# Confronta tempi di esecuzione e risultati ottenuti (best_params, best_score)\n",
    "\n",
    "from sklearn.ensemble import RandomForestClassifier\n",
    "from sklearn.model_selection import train_test_split, GridSearchCV, RandomizedSearchCV\n",
    "\n",
    "X, y = load_wine(return_X_y=True)\n",
    "\n",
    "X_train, X_test, y_train, y_test = train_test_split(X, y, test_size=0.3, random_state=42)\n"
   ]
  },
  {
   "cell_type": "code",
   "execution_count": null,
   "id": "57e77215",
   "metadata": {},
   "outputs": [],
   "source": [
    "# Modello base\n",
    "model = RandomForestClassifier(random_state=42)\n",
    "\n",
    "param_grid = {\n",
    "    'n_estimators': [50, 100],# N di alberi\n",
    "    'max_depth': [None, 5],#profondità massima dell’albero (None = senza limite)\n",
    "}\n"
   ]
  },
  {
   "cell_type": "code",
   "execution_count": 40,
   "id": "78e490c0",
   "metadata": {},
   "outputs": [
    {
     "name": "stdout",
     "output_type": "stream",
     "text": [
      "\n",
      " GridSearchCV\n",
      "Migliori parametri: {'max_depth': None, 'n_estimators': 50}\n",
      "Miglior score: 0.968\n"
     ]
    }
   ],
   "source": [
    "# GridSearchCV\n",
    "grid = GridSearchCV(model, param_grid, cv=3)\n",
    "grid.fit(X_train, y_train)\n",
    "\n",
    "print(\"\\n GridSearchCV\")\n",
    "print(\"Migliori parametri:\", grid.best_params_)\n",
    "print(\"Miglior score:\", round(grid.best_score_, 3))\n"
   ]
  },
  {
   "cell_type": "code",
   "execution_count": 46,
   "id": "8feaeafd",
   "metadata": {},
   "outputs": [
    {
     "name": "stdout",
     "output_type": "stream",
     "text": [
      "\n",
      " RandomizedSearchCV\n",
      "Migliori parametri: {'n_estimators': 100, 'max_depth': None}\n",
      "Miglior score: 0.968\n"
     ]
    }
   ],
   "source": [
    "# RandomizedSearchCV\n",
    "random = RandomizedSearchCV(model, param_grid, n_iter=3, cv=3, random_state=42)\n",
    "random.fit(X_train, y_train)\n",
    "\n",
    "print(\"\\n RandomizedSearchCV\")\n",
    "print(\"Migliori parametri:\", random.best_params_)\n",
    "print(\"Miglior score:\", round(random.best_score_, 3))\n"
   ]
  }
 ],
 "metadata": {
  "kernelspec": {
   "display_name": "base",
   "language": "python",
   "name": "python3"
  },
  "language_info": {
   "codemirror_mode": {
    "name": "ipython",
    "version": 3
   },
   "file_extension": ".py",
   "mimetype": "text/x-python",
   "name": "python",
   "nbconvert_exporter": "python",
   "pygments_lexer": "ipython3",
   "version": "3.12.7"
  }
 },
 "nbformat": 4,
 "nbformat_minor": 5
}
