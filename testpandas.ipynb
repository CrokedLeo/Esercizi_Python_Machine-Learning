{
 "cells": [
  {
   "cell_type": "markdown",
   "id": "52670760",
   "metadata": {},
   "source": [
    "## Esercizi con Pandas\n",
    "\n"
   ]
  },
  {
   "cell_type": "code",
   "execution_count": 19,
   "id": "621be07e",
   "metadata": {},
   "outputs": [],
   "source": [
    "import pandas as pd\n",
    "import random\n"
   ]
  },
  {
   "cell_type": "markdown",
   "id": "d1602093",
   "metadata": {},
   "source": [
    "__Esercizio uno__\n",
    "\n",
    "Create un DataFrame sulla base di un elenco di almeno 10 clienti forniti dall'utente tramite input e salvatelo in formato csv.\n",
    "Per ogni cliente verranno forniti:\n",
    "\n",
    "Numero Cliente, Nome, Cognome, Data di Nascita, Regione di Residenza."
   ]
  },
  {
   "cell_type": "code",
   "execution_count": 20,
   "id": "c82a71eb",
   "metadata": {},
   "outputs": [
    {
     "name": "stdout",
     "output_type": "stream",
     "text": [
      " N. cliente      nome  cognome    nascita residenza\n",
      "          1 Francesca    Rossi   1999-9-8    Veneto\n",
      "          2 Francesca    Russo  2012-5-13  Piemonte\n",
      "          3    Davide Esposito   2011-5-6  Piemonte\n",
      "          4    Davide    Costa  1981-12-4  Campania\n",
      "          5    Davide    Russo   2000-6-3   Sicilia\n",
      "          6      Sara    Verdi  2002-5-13   Sicilia\n",
      "          7     Paolo  Fontana  2010-5-19  Piemonte\n",
      "          8   Giorgio    Gallo   2000-4-7  Campania\n",
      "          9     Marco   Romano 2015-11-11   Sicilia\n",
      "         10   Giorgio  Fontana  1993-9-17  Campania\n",
      "         11   Giorgio    Gallo 1995-12-11     Lazio\n",
      "         12      Sara  Bianchi 1982-12-28   Sicilia\n",
      "         13     Paolo  Bianchi  2003-10-2 Lombardia\n",
      "         14    Giulia    Rossi  1996-7-18    Veneto\n",
      "         15      Sara  Bianchi 2001-10-28     Lazio\n",
      "         16    Giulia  Fontana   2007-6-7   Toscana\n",
      "         17      Sara    Verdi  2001-6-21 Lombardia\n",
      "         18    Davide    Verdi  1993-11-1   Toscana\n",
      "         19      Sara  Fontana   1988-3-2    Puglia\n",
      "         20 Francesca   Romano  1989-3-26   Sicilia\n"
     ]
    }
   ],
   "source": [
    "\n",
    "# liste random di nomi cognomi  regioni\n",
    "nomi = ['Anna', 'Luca', 'Marco', 'Giulia', 'Francesca', 'Davide', 'Sara', 'Giorgio', 'Elisa', 'Paolo']\n",
    "cognomi = ['Rossi', 'Bianchi', 'Verdi', 'Esposito', 'Russo', 'Ferrari', 'Romano', 'Gallo', 'Costa', 'Fontana']\n",
    "regioni = ['Lazio', 'Lombardia', 'Campania', 'Sicilia', 'Veneto', 'Toscana', 'Piemonte', 'Puglia']\n",
    "\n",
    "\n",
    "def ran_date():\n",
    "    year = random.randint(1980, 2015)\n",
    "    month = random.randint(1, 12)\n",
    "    day = random.randint(1, 29)\n",
    "    return f\"{year}-{month}-{day}\"\n",
    "\n",
    "clienti = []\n",
    "\n",
    "for i in range(1, 21): \n",
    "    clienti.append({\n",
    "        \"N. cliente\": i,\n",
    "        \"nome\": random.choice(nomi),\n",
    "        \"cognome\": random.choice(cognomi),\n",
    "        \"nascita\": ran_date(),\n",
    "        \"residenza\": random.choice(regioni)\n",
    "    })\n",
    "\n",
    "# crea il df\n",
    "df_clienti = pd.DataFrame(clienti)\n",
    "\n",
    "print(df_clienti.to_string(index=False))\n",
    "\n",
    "# CSV\n",
    "df_clienti.to_csv(\"clienti_random.csv\", index=False)\n"
   ]
  },
  {
   "cell_type": "markdown",
   "id": "1d7c4e39",
   "metadata": {},
   "source": [
    "__Esercizio Due__\n",
    "\n",
    "Partendo dal dataframe creato nell'esercizio precedente, aggiungete 3 colonne:\n",
    "\n",
    "- La prima contiene una X in corrispondenza dei clienti minorenni;\n",
    "\n",
    "- La seconda contiene una X in corrispondenza dei clienti con età maggiore di 17 anni;\n",
    "\n",
    "- La terza contiene una X in corrispondenza dei clienti con età maggiore di 20 anni."
   ]
  },
  {
   "cell_type": "code",
   "execution_count": 21,
   "id": "8e26d3f1",
   "metadata": {},
   "outputs": [],
   "source": [
    "import datetime"
   ]
  },
  {
   "cell_type": "code",
   "execution_count": 22,
   "id": "5b9e3d20",
   "metadata": {},
   "outputs": [
    {
     "name": "stdout",
     "output_type": "stream",
     "text": [
      " N. cliente  eta minorenne maggiore di 17 maggiore di 20\n",
      "          1   26                        X              X\n",
      "          2   13         X                              \n",
      "          3   14         X                              \n",
      "          4   44                        X              X\n",
      "          5   25                        X              X\n",
      "          6   23                        X              X\n",
      "          7   15         X                              \n",
      "          8   25                        X              X\n",
      "          9   10         X                              \n",
      "         10   32                        X              X\n",
      "         11   30                        X              X\n",
      "         12   43                        X              X\n",
      "         13   22                        X              X\n",
      "         14   29                        X              X\n",
      "         15   24                        X              X\n",
      "         16   18                        X               \n",
      "         17   24                        X              X\n",
      "         18   32                        X              X\n",
      "         19   37                        X              X\n",
      "         20   36                        X              X\n"
     ]
    }
   ],
   "source": [
    "#leggi file csv\n",
    "df = pd.read_csv(\"clienti_random.csv\")\n",
    "\n",
    "#imposta date oggi\n",
    "today = datetime.datetime.now()\n",
    "anno_attuale = today.year\n",
    "\n",
    "\n",
    "# prendi anno e calocla eta\n",
    "df[\"anno nascita\"] = df[\"nascita\"].str[:4].astype(int)\n",
    "\n",
    "df[\"eta\"] = anno_attuale - df[\"anno nascita\"]\n",
    "\n",
    "\n",
    "# aggiungi colonne con papply lambda\n",
    "df[\"minorenne\"] = df[\"eta\"].apply(lambda x: \"X\" if x < 18 else \" \")\n",
    "df[\"maggiore di 17\"] = df[\"eta\"].apply(lambda x: \"X\" if x > 17 else \" \")\n",
    "df[\"maggiore di 20\"] = df[\"eta\"].apply(lambda x: \"X\" if x > 20 else \" \")\n",
    "\n",
    "print(df[[\"N. cliente\",  \"eta\", \"minorenne\", \"maggiore di 17\", \"maggiore di 20\"]].to_string(index=False))\n"
   ]
  },
  {
   "cell_type": "markdown",
   "id": "19b0a5e1",
   "metadata": {},
   "source": [
    "## Installazione librerie funzioni grafiche"
   ]
  },
  {
   "cell_type": "code",
   "execution_count": 4,
   "id": "521cf543",
   "metadata": {},
   "outputs": [],
   "source": [
    "import matplotlib.pyplot as plt\n",
    "import seaborn as sns\n"
   ]
  },
  {
   "cell_type": "markdown",
   "id": "42700387",
   "metadata": {},
   "source": [
    "Libreria Test"
   ]
  },
  {
   "cell_type": "code",
   "execution_count": 5,
   "id": "be488e94",
   "metadata": {},
   "outputs": [
    {
     "name": "stdout",
     "output_type": "stream",
     "text": [
      "   A  B  C\n",
      "0  1  4  7\n",
      "1  2  5  8\n",
      "2  3  6  9\n",
      "\n",
      "\n",
      "A    object\n",
      "B    object\n",
      "C    object\n",
      "dtype: object\n",
      "\n",
      "Converted:\n",
      "\n",
      "     A  B  C\n",
      "0  1.0  4  7\n",
      "1  2.0  5  8\n",
      "2  3.0  6  9\n",
      "\n",
      "\n",
      "A    float64\n",
      "B      int32\n",
      "C      int32\n",
      "dtype: object\n"
     ]
    }
   ],
   "source": [
    "import pandas as pd\n",
    "# Create and print DataFrame\n",
    "df2 = pd.DataFrame({\n",
    "'A': ['1', '2', '3'],\n",
    "'B': ['4', '5', '6'],\n",
    "'C': ['7', '8', '9']\n",
    "})\n",
    "print(df2)\n",
    "\n",
    "# Print data types of each column in DataFrame\n",
    "print(\"\\n\")\n",
    "print(df2.dtypes)\n",
    "\n",
    "# Change column A's values to floats\n",
    "df2['A'] = df2['A'].astype(float)\n",
    "\n",
    "# Change column B and C's values to integers\n",
    "df2 = df2.astype({'B': int, 'C': int})\n",
    "\n",
    "print(\"\\nConverted:\\n\")\n",
    "\n",
    "# Print altered DataFrame\n",
    "print(df2)\n",
    "# Print data types of each column in DataFrame\n",
    "print(\"\\n\")\n",
    "print(df2.dtypes)"
   ]
  },
  {
   "cell_type": "markdown",
   "id": "79538b3d",
   "metadata": {},
   "source": [
    "Stampa"
   ]
  },
  {
   "cell_type": "code",
   "execution_count": 6,
   "id": "e75191a4",
   "metadata": {},
   "outputs": [
    {
     "data": {
      "text/plain": [
       "<Axes: >"
      ]
     },
     "execution_count": 6,
     "metadata": {},
     "output_type": "execute_result"
    },
    {
     "data": {
      "image/png": "[encoded data removed]",
      "text/plain": [
       "<Figure size 1000x600 with 2 Axes>"
      ]
     },
     "metadata": {},
     "output_type": "display_data"
    }
   ],
   "source": [
    "\n",
    "corr = df2.corr()\n",
    "\n",
    "fig, ax = plt.subplots(figsize=(10, 6))\n",
    "\n",
    "sns.heatmap(\n",
    "corr,\n",
    "vmin=-1, vmax=1, center=0,\n",
    "#cmap=sns.diverging_palette(20, 220, n=200),\n",
    "square=True\n",
    ")"
   ]
  }
 ],
 "metadata": {
  "kernelspec": {
   "display_name": "base",
   "language": "python",
   "name": "python3"
  },
  "language_info": {
   "codemirror_mode": {
    "name": "ipython",
    "version": 3
   },
   "file_extension": ".py",
   "mimetype": "text/x-python",
   "name": "python",
   "nbconvert_exporter": "python",
   "pygments_lexer": "ipython3",
   "version": "3.12.7"
  }
 },
 "nbformat": 4,
 "nbformat_minor": 5
}
