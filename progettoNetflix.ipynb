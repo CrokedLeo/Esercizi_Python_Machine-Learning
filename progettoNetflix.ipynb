{
 "cells": [
  {
   "cell_type": "code",
   "execution_count": 4,
   "id": "33b5a070",
   "metadata": {},
   "outputs": [],
   "source": [
    "import pandas as pd\n",
    "import matplotlib.pyplot as plt\n",
    "import seaborn as sns\n"
   ]
  },
  {
   "cell_type": "code",
   "execution_count": 3,
   "id": "9b26dbe6",
   "metadata": {},
   "outputs": [],
   "source": [
    "try:\n",
    "    dfNet = pd.read_csv('netflix_titles.csv')\n",
    "except:\n",
    "    print(\"impossible aprire file\")\n",
    "    \n"
   ]
  },
  {
   "cell_type": "code",
   "execution_count": null,
   "id": "ca9a0a11",
   "metadata": {},
   "outputs": [
    {
     "data": {
      "text/html": [
       "<div>\n",
       "<style scoped>\n",
       "    .dataframe tbody tr th:only-of-type {\n",
       "        vertical-align: middle;\n",
       "    }\n",
       "\n",
       "    .dataframe tbody tr th {\n",
       "        vertical-align: top;\n",
       "    }\n",
       "\n",
       "    .dataframe thead th {\n",
       "        text-align: right;\n",
       "    }\n",
       "</style>\n",
       "<table border=\"1\" class=\"dataframe\">\n",
       "  <thead>\n",
       "    <tr style=\"text-align: right;\">\n",
       "      <th></th>\n",
       "      <th>type</th>\n",
       "      <th>show_id</th>\n",
       "      <th>title</th>\n",
       "      <th>director</th>\n",
       "      <th>cast</th>\n",
       "      <th>country</th>\n",
       "      <th>date_added</th>\n",
       "      <th>release_year</th>\n",
       "      <th>rating</th>\n",
       "      <th>duration</th>\n",
       "      <th>listed_in</th>\n",
       "      <th>description</th>\n",
       "    </tr>\n",
       "  </thead>\n",
       "  <tbody>\n",
       "    <tr>\n",
       "      <th>0</th>\n",
       "      <td>Movie</td>\n",
       "      <td>6131</td>\n",
       "      <td>6131</td>\n",
       "      <td>5943</td>\n",
       "      <td>5656</td>\n",
       "      <td>5691</td>\n",
       "      <td>6131</td>\n",
       "      <td>6131</td>\n",
       "      <td>6129</td>\n",
       "      <td>6128</td>\n",
       "      <td>6131</td>\n",
       "      <td>6131</td>\n",
       "    </tr>\n",
       "    <tr>\n",
       "      <th>1</th>\n",
       "      <td>TV Show</td>\n",
       "      <td>2676</td>\n",
       "      <td>2676</td>\n",
       "      <td>230</td>\n",
       "      <td>2326</td>\n",
       "      <td>2285</td>\n",
       "      <td>2666</td>\n",
       "      <td>2676</td>\n",
       "      <td>2674</td>\n",
       "      <td>2676</td>\n",
       "      <td>2676</td>\n",
       "      <td>2676</td>\n",
       "    </tr>\n",
       "  </tbody>\n",
       "</table>\n",
       "</div>"
      ],
      "text/plain": [
       "      type  show_id  title  director  cast  country  date_added  release_year  \\\n",
       "0    Movie     6131   6131      5943  5656     5691        6131          6131   \n",
       "1  TV Show     2676   2676       230  2326     2285        2666          2676   \n",
       "\n",
       "   rating  duration  listed_in  description  \n",
       "0    6129      6128       6131         6131  \n",
       "1    2674      2676       2676         2676  "
      ]
     },
     "execution_count": 8,
     "metadata": {},
     "output_type": "execute_result"
    }
   ],
   "source": [
    "listafilm = dfNet.groupby('type').count().reset_index()\n",
    "listafilm"
   ]
  },
  {
   "cell_type": "code",
   "execution_count": null,
   "id": "f7e9d3eb",
   "metadata": {},
   "outputs": [
    {
     "data": {
      "text/html": [
       "<div>\n",
       "<style scoped>\n",
       "    .dataframe tbody tr th:only-of-type {\n",
       "        vertical-align: middle;\n",
       "    }\n",
       "\n",
       "    .dataframe tbody tr th {\n",
       "        vertical-align: top;\n",
       "    }\n",
       "\n",
       "    .dataframe thead th {\n",
       "        text-align: right;\n",
       "    }\n",
       "</style>\n",
       "<table border=\"1\" class=\"dataframe\">\n",
       "  <thead>\n",
       "    <tr style=\"text-align: right;\">\n",
       "      <th></th>\n",
       "      <th>show_id</th>\n",
       "      <th>type</th>\n",
       "      <th>title</th>\n",
       "      <th>director</th>\n",
       "      <th>cast</th>\n",
       "      <th>country</th>\n",
       "      <th>date_added</th>\n",
       "      <th>release_year</th>\n",
       "      <th>rating</th>\n",
       "      <th>duration</th>\n",
       "      <th>listed_in</th>\n",
       "      <th>description</th>\n",
       "      <th>seasons</th>\n",
       "    </tr>\n",
       "  </thead>\n",
       "  <tbody>\n",
       "    <tr>\n",
       "      <th>1</th>\n",
       "      <td>s2</td>\n",
       "      <td>TV Show</td>\n",
       "      <td>Blood &amp; Water</td>\n",
       "      <td>NaN</td>\n",
       "      <td>Ama Qamata, Khosi Ngema, Gail Mabalane, Thaban...</td>\n",
       "      <td>South Africa</td>\n",
       "      <td>September 24, 2021</td>\n",
       "      <td>2021</td>\n",
       "      <td>TV-MA</td>\n",
       "      <td>2 Seasons</td>\n",
       "      <td>International TV Shows, TV Dramas, TV Mysteries</td>\n",
       "      <td>After crossing paths at a party, a Cape Town t...</td>\n",
       "      <td>2.0</td>\n",
       "    </tr>\n",
       "    <tr>\n",
       "      <th>2</th>\n",
       "      <td>s3</td>\n",
       "      <td>TV Show</td>\n",
       "      <td>Ganglands</td>\n",
       "      <td>Julien Leclercq</td>\n",
       "      <td>Sami Bouajila, Tracy Gotoas, Samuel Jouy, Nabi...</td>\n",
       "      <td>NaN</td>\n",
       "      <td>September 24, 2021</td>\n",
       "      <td>2021</td>\n",
       "      <td>TV-MA</td>\n",
       "      <td>1 Season</td>\n",
       "      <td>Crime TV Shows, International TV Shows, TV Act...</td>\n",
       "      <td>To protect his family from a powerful drug lor...</td>\n",
       "      <td>1.0</td>\n",
       "    </tr>\n",
       "    <tr>\n",
       "      <th>3</th>\n",
       "      <td>s4</td>\n",
       "      <td>TV Show</td>\n",
       "      <td>Jailbirds New Orleans</td>\n",
       "      <td>NaN</td>\n",
       "      <td>NaN</td>\n",
       "      <td>NaN</td>\n",
       "      <td>September 24, 2021</td>\n",
       "      <td>2021</td>\n",
       "      <td>TV-MA</td>\n",
       "      <td>1 Season</td>\n",
       "      <td>Docuseries, Reality TV</td>\n",
       "      <td>Feuds, flirtations and toilet talk go down amo...</td>\n",
       "      <td>1.0</td>\n",
       "    </tr>\n",
       "    <tr>\n",
       "      <th>4</th>\n",
       "      <td>s5</td>\n",
       "      <td>TV Show</td>\n",
       "      <td>Kota Factory</td>\n",
       "      <td>NaN</td>\n",
       "      <td>Mayur More, Jitendra Kumar, Ranjan Raj, Alam K...</td>\n",
       "      <td>India</td>\n",
       "      <td>September 24, 2021</td>\n",
       "      <td>2021</td>\n",
       "      <td>TV-MA</td>\n",
       "      <td>2 Seasons</td>\n",
       "      <td>International TV Shows, Romantic TV Shows, TV ...</td>\n",
       "      <td>In a city of coaching centers known to train I...</td>\n",
       "      <td>2.0</td>\n",
       "    </tr>\n",
       "    <tr>\n",
       "      <th>5</th>\n",
       "      <td>s6</td>\n",
       "      <td>TV Show</td>\n",
       "      <td>Midnight Mass</td>\n",
       "      <td>Mike Flanagan</td>\n",
       "      <td>Kate Siegel, Zach Gilford, Hamish Linklater, H...</td>\n",
       "      <td>NaN</td>\n",
       "      <td>September 24, 2021</td>\n",
       "      <td>2021</td>\n",
       "      <td>TV-MA</td>\n",
       "      <td>1 Season</td>\n",
       "      <td>TV Dramas, TV Horror, TV Mysteries</td>\n",
       "      <td>The arrival of a charismatic young priest brin...</td>\n",
       "      <td>1.0</td>\n",
       "    </tr>\n",
       "    <tr>\n",
       "      <th>...</th>\n",
       "      <td>...</td>\n",
       "      <td>...</td>\n",
       "      <td>...</td>\n",
       "      <td>...</td>\n",
       "      <td>...</td>\n",
       "      <td>...</td>\n",
       "      <td>...</td>\n",
       "      <td>...</td>\n",
       "      <td>...</td>\n",
       "      <td>...</td>\n",
       "      <td>...</td>\n",
       "      <td>...</td>\n",
       "      <td>...</td>\n",
       "    </tr>\n",
       "    <tr>\n",
       "      <th>8795</th>\n",
       "      <td>s8796</td>\n",
       "      <td>TV Show</td>\n",
       "      <td>Yu-Gi-Oh! Arc-V</td>\n",
       "      <td>NaN</td>\n",
       "      <td>Mike Liscio, Emily Bauer, Billy Bob Thompson, ...</td>\n",
       "      <td>Japan, Canada</td>\n",
       "      <td>May 1, 2018</td>\n",
       "      <td>2015</td>\n",
       "      <td>TV-Y7</td>\n",
       "      <td>2 Seasons</td>\n",
       "      <td>Anime Series, Kids' TV</td>\n",
       "      <td>Now that he's discovered the Pendulum Summonin...</td>\n",
       "      <td>2.0</td>\n",
       "    </tr>\n",
       "    <tr>\n",
       "      <th>8796</th>\n",
       "      <td>s8797</td>\n",
       "      <td>TV Show</td>\n",
       "      <td>Yunus Emre</td>\n",
       "      <td>NaN</td>\n",
       "      <td>Gökhan Atalay, Payidar Tüfekçioglu, Baran Akbu...</td>\n",
       "      <td>Turkey</td>\n",
       "      <td>January 17, 2017</td>\n",
       "      <td>2016</td>\n",
       "      <td>TV-PG</td>\n",
       "      <td>2 Seasons</td>\n",
       "      <td>International TV Shows, TV Dramas</td>\n",
       "      <td>During the Mongol invasions, Yunus Emre leaves...</td>\n",
       "      <td>2.0</td>\n",
       "    </tr>\n",
       "    <tr>\n",
       "      <th>8797</th>\n",
       "      <td>s8798</td>\n",
       "      <td>TV Show</td>\n",
       "      <td>Zak Storm</td>\n",
       "      <td>NaN</td>\n",
       "      <td>Michael Johnston, Jessica Gee-George, Christin...</td>\n",
       "      <td>United States, France, South Korea, Indonesia</td>\n",
       "      <td>September 13, 2018</td>\n",
       "      <td>2016</td>\n",
       "      <td>TV-Y7</td>\n",
       "      <td>3 Seasons</td>\n",
       "      <td>Kids' TV</td>\n",
       "      <td>Teen surfer Zak Storm is mysteriously transpor...</td>\n",
       "      <td>3.0</td>\n",
       "    </tr>\n",
       "    <tr>\n",
       "      <th>8800</th>\n",
       "      <td>s8801</td>\n",
       "      <td>TV Show</td>\n",
       "      <td>Zindagi Gulzar Hai</td>\n",
       "      <td>NaN</td>\n",
       "      <td>Sanam Saeed, Fawad Khan, Ayesha Omer, Mehreen ...</td>\n",
       "      <td>Pakistan</td>\n",
       "      <td>December 15, 2016</td>\n",
       "      <td>2012</td>\n",
       "      <td>TV-PG</td>\n",
       "      <td>1 Season</td>\n",
       "      <td>International TV Shows, Romantic TV Shows, TV ...</td>\n",
       "      <td>Strong-willed, middle-class Kashaf and carefre...</td>\n",
       "      <td>1.0</td>\n",
       "    </tr>\n",
       "    <tr>\n",
       "      <th>8803</th>\n",
       "      <td>s8804</td>\n",
       "      <td>TV Show</td>\n",
       "      <td>Zombie Dumb</td>\n",
       "      <td>NaN</td>\n",
       "      <td>NaN</td>\n",
       "      <td>NaN</td>\n",
       "      <td>July 1, 2019</td>\n",
       "      <td>2018</td>\n",
       "      <td>TV-Y7</td>\n",
       "      <td>2 Seasons</td>\n",
       "      <td>Kids' TV, Korean TV Shows, TV Comedies</td>\n",
       "      <td>While living alone in a spooky town, a young g...</td>\n",
       "      <td>2.0</td>\n",
       "    </tr>\n",
       "  </tbody>\n",
       "</table>\n",
       "<p>2676 rows × 13 columns</p>\n",
       "</div>"
      ],
      "text/plain": [
       "     show_id     type                  title         director  \\\n",
       "1         s2  TV Show          Blood & Water              NaN   \n",
       "2         s3  TV Show              Ganglands  Julien Leclercq   \n",
       "3         s4  TV Show  Jailbirds New Orleans              NaN   \n",
       "4         s5  TV Show           Kota Factory              NaN   \n",
       "5         s6  TV Show          Midnight Mass    Mike Flanagan   \n",
       "...      ...      ...                    ...              ...   \n",
       "8795   s8796  TV Show        Yu-Gi-Oh! Arc-V              NaN   \n",
       "8796   s8797  TV Show             Yunus Emre              NaN   \n",
       "8797   s8798  TV Show              Zak Storm              NaN   \n",
       "8800   s8801  TV Show     Zindagi Gulzar Hai              NaN   \n",
       "8803   s8804  TV Show            Zombie Dumb              NaN   \n",
       "\n",
       "                                                   cast  \\\n",
       "1     Ama Qamata, Khosi Ngema, Gail Mabalane, Thaban...   \n",
       "2     Sami Bouajila, Tracy Gotoas, Samuel Jouy, Nabi...   \n",
       "3                                                   NaN   \n",
       "4     Mayur More, Jitendra Kumar, Ranjan Raj, Alam K...   \n",
       "5     Kate Siegel, Zach Gilford, Hamish Linklater, H...   \n",
       "...                                                 ...   \n",
       "8795  Mike Liscio, Emily Bauer, Billy Bob Thompson, ...   \n",
       "8796  Gökhan Atalay, Payidar Tüfekçioglu, Baran Akbu...   \n",
       "8797  Michael Johnston, Jessica Gee-George, Christin...   \n",
       "8800  Sanam Saeed, Fawad Khan, Ayesha Omer, Mehreen ...   \n",
       "8803                                                NaN   \n",
       "\n",
       "                                            country          date_added  \\\n",
       "1                                      South Africa  September 24, 2021   \n",
       "2                                               NaN  September 24, 2021   \n",
       "3                                               NaN  September 24, 2021   \n",
       "4                                             India  September 24, 2021   \n",
       "5                                               NaN  September 24, 2021   \n",
       "...                                             ...                 ...   \n",
       "8795                                  Japan, Canada         May 1, 2018   \n",
       "8796                                         Turkey    January 17, 2017   \n",
       "8797  United States, France, South Korea, Indonesia  September 13, 2018   \n",
       "8800                                       Pakistan   December 15, 2016   \n",
       "8803                                            NaN        July 1, 2019   \n",
       "\n",
       "      release_year rating   duration  \\\n",
       "1             2021  TV-MA  2 Seasons   \n",
       "2             2021  TV-MA   1 Season   \n",
       "3             2021  TV-MA   1 Season   \n",
       "4             2021  TV-MA  2 Seasons   \n",
       "5             2021  TV-MA   1 Season   \n",
       "...            ...    ...        ...   \n",
       "8795          2015  TV-Y7  2 Seasons   \n",
       "8796          2016  TV-PG  2 Seasons   \n",
       "8797          2016  TV-Y7  3 Seasons   \n",
       "8800          2012  TV-PG   1 Season   \n",
       "8803          2018  TV-Y7  2 Seasons   \n",
       "\n",
       "                                              listed_in  \\\n",
       "1       International TV Shows, TV Dramas, TV Mysteries   \n",
       "2     Crime TV Shows, International TV Shows, TV Act...   \n",
       "3                                Docuseries, Reality TV   \n",
       "4     International TV Shows, Romantic TV Shows, TV ...   \n",
       "5                    TV Dramas, TV Horror, TV Mysteries   \n",
       "...                                                 ...   \n",
       "8795                             Anime Series, Kids' TV   \n",
       "8796                  International TV Shows, TV Dramas   \n",
       "8797                                           Kids' TV   \n",
       "8800  International TV Shows, Romantic TV Shows, TV ...   \n",
       "8803             Kids' TV, Korean TV Shows, TV Comedies   \n",
       "\n",
       "                                            description  seasons  \n",
       "1     After crossing paths at a party, a Cape Town t...      2.0  \n",
       "2     To protect his family from a powerful drug lor...      1.0  \n",
       "3     Feuds, flirtations and toilet talk go down amo...      1.0  \n",
       "4     In a city of coaching centers known to train I...      2.0  \n",
       "5     The arrival of a charismatic young priest brin...      1.0  \n",
       "...                                                 ...      ...  \n",
       "8795  Now that he's discovered the Pendulum Summonin...      2.0  \n",
       "8796  During the Mongol invasions, Yunus Emre leaves...      2.0  \n",
       "8797  Teen surfer Zak Storm is mysteriously transpor...      3.0  \n",
       "8800  Strong-willed, middle-class Kashaf and carefre...      1.0  \n",
       "8803  While living alone in a spooky town, a young g...      2.0  \n",
       "\n",
       "[2676 rows x 13 columns]"
      ]
     },
     "execution_count": 37,
     "metadata": {},
     "output_type": "execute_result"
    }
   ],
   "source": [
    "series = dfNet[dfNet['type'] == 'TV Show'].copy()\n",
    "series['seasons'] = series['duration'].str.extract(r'(\\d+)').astype(float)\n",
    "mediaSerieTv = series['seasons'].mean()\n",
    "\n"
   ]
  },
  {
   "cell_type": "code",
   "execution_count": 23,
   "id": "fba11d8e",
   "metadata": {},
   "outputs": [],
   "source": [
    "films = dfNet[dfNet['type'] == 'Movie'].copy()\n",
    "films['minutes'] = films['duration'].str.extract(r'(\\d+)').astype(float)\n",
    "mediaFilm = films['minutes'].mean()\n"
   ]
  },
  {
   "cell_type": "code",
   "execution_count": null,
   "id": "7463cae9",
   "metadata": {},
   "outputs": [
    {
     "name": "stderr",
     "output_type": "stream",
     "text": [
      "C:\\Users\\Vik10\\AppData\\Local\\Temp\\ipykernel_18080\\3878819162.py:9: FutureWarning: \n",
      "\n",
      "Passing `palette` without assigning `hue` is deprecated and will be removed in v0.14.0. Assign the `x` variable to `hue` and set `legend=False` for the same effect.\n",
      "\n",
      "  sns.barplot(x=list(mediaDati.keys()), y=list(mediaDati.values()), palette=\"viridis\")\n"
     ]
    },
    {
     "data": {
      "image/png": "[encoded data removed]",
      "text/plain": [
       "<Figure size 640x480 with 1 Axes>"
      ]
     },
     "metadata": {},
     "output_type": "display_data"
    }
   ],
   "source": [
    "mediaDati = {\n",
    "    'TV Show (stagioni)': mediaSerieTv,\n",
    "    'Movie (minuti)': mediaFilm\n",
    "}\n",
    "\n",
    "sns.barplot(x=list(mediaDati.keys()), y=list(mediaDati.values()), palette=\"viridis\")\n",
    "plt.title(\"Media stagioni (TV Show) vs. durata media (Film)\")\n",
    "plt.xlabel(\"Tipo di contenuto\")\n",
    "plt.ylabel(\"Media\")\n",
    "plt.tight_layout()\n",
    "plt.show()"
   ]
  },
  {
   "cell_type": "code",
   "execution_count": 39,
   "id": "18dda557",
   "metadata": {},
   "outputs": [],
   "source": [
    "def classificaFilm(films):\n",
    "    if films <= 60:\n",
    "        return \"Corto\"\n",
    "    elif films > 60 and films <= 90:\n",
    "        return \"Medio\"\n",
    "    elif films  > 90:\n",
    "        return \"Lungo\"\n",
    "    \n",
    "films['Classifica_Durata'] = films['minutes'].apply(classificaFilm)"
   ]
  },
  {
   "cell_type": "code",
   "execution_count": 44,
   "id": "a21d5239",
   "metadata": {},
   "outputs": [],
   "source": [
    "def classificaSerieTv(serie):\n",
    "    if serie == 1:\n",
    "        return \"Corta\"\n",
    "    elif serie == 2:\n",
    "        return \"Media\"\n",
    "    else:\n",
    "        return \"Lunga\"\n",
    "series['Classifica_Durata'] = series['seasons'].apply(classificaSerieTv)\n",
    "\n"
   ]
  },
  {
   "cell_type": "code",
   "execution_count": 51,
   "id": "865f6ebd",
   "metadata": {},
   "outputs": [
    {
     "data": {
      "text/plain": [
       "Classifica_Durata\n",
       "Corta    1793\n",
       "Lunga     458\n",
       "Media     425\n",
       "Name: count, dtype: int64"
      ]
     },
     "execution_count": 51,
     "metadata": {},
     "output_type": "execute_result"
    }
   ],
   "source": [
    "serieTv = series['Classifica_Durata'].value_counts()\n",
    "serieTv"
   ]
  },
  {
   "cell_type": "code",
   "execution_count": 54,
   "id": "1001ae82",
   "metadata": {},
   "outputs": [
    {
     "name": "stderr",
     "output_type": "stream",
     "text": [
      "C:\\Users\\Vik10\\AppData\\Local\\Temp\\ipykernel_18080\\3545287635.py:1: FutureWarning: \n",
      "\n",
      "Passing `palette` without assigning `hue` is deprecated and will be removed in v0.14.0. Assign the `x` variable to `hue` and set `legend=False` for the same effect.\n",
      "\n",
      "  sns.barplot(x=serieTv.index, y=serieTv.values, palette=\"viridis\")\n"
     ]
    },
    {
     "data": {
      "image/png": "[encoded data removed]",
      "text/plain": [
       "<Figure size 640x480 with 1 Axes>"
      ]
     },
     "metadata": {},
     "output_type": "display_data"
    }
   ],
   "source": [
    "sns.barplot(x=serieTv.index, y=serieTv.values, palette=\"viridis\")\n",
    "plt.title(\"Serie TV\")\n",
    "plt.xlabel(\"Tipo di contenuto\")\n",
    "plt.ylabel(\"Media\")\n",
    "plt.tight_layout()\n",
    "plt.show()"
   ]
  },
  {
   "cell_type": "code",
   "execution_count": 55,
   "id": "189d2526",
   "metadata": {},
   "outputs": [
    {
     "data": {
      "text/plain": [
       "Classifica_Durata\n",
       "Lungo    4138\n",
       "Medio    1503\n",
       "Corto     487\n",
       "Name: count, dtype: int64"
      ]
     },
     "execution_count": 55,
     "metadata": {},
     "output_type": "execute_result"
    }
   ],
   "source": [
    "movie = films['Classifica_Durata'].value_counts()\n",
    "movie"
   ]
  },
  {
   "cell_type": "code",
   "execution_count": 56,
   "id": "fbab92a2",
   "metadata": {},
   "outputs": [
    {
     "name": "stderr",
     "output_type": "stream",
     "text": [
      "C:\\Users\\Vik10\\AppData\\Local\\Temp\\ipykernel_18080\\2372080872.py:1: FutureWarning: \n",
      "\n",
      "Passing `palette` without assigning `hue` is deprecated and will be removed in v0.14.0. Assign the `x` variable to `hue` and set `legend=False` for the same effect.\n",
      "\n",
      "  sns.barplot(x=movie.index, y=movie.values, palette=\"viridis\")\n"
     ]
    },
    {
     "data": {
      "image/png": "[encoded data removed]",
      "text/plain": [
       "<Figure size 640x480 with 1 Axes>"
      ]
     },
     "metadata": {},
     "output_type": "display_data"
    }
   ],
   "source": [
    "sns.barplot(x=movie.index, y=movie.values, palette=\"viridis\")\n",
    "plt.title(\"Film\")\n",
    "plt.xlabel(\"Tipo di contenuto\")\n",
    "plt.ylabel(\"Media\")\n",
    "plt.tight_layout()\n",
    "plt.show()"
   ]
  },
  {
   "cell_type": "markdown",
   "id": "24bc6ce9",
   "metadata": {},
   "source": [
    "Sulla base del dataframe scaricato in precedenza con i dati Netflix:\n",
    "\n",
    "- Grafico a Torta con le percentuali di prodotti Film o Serie TV;\n",
    "\n",
    "- Grafico con da distribuzione dei prodotti per paese;\n",
    "\n",
    "- Grafico con andamento dell'aggiunta dei prodotti nel corso del tempo.\n",
    "\n"
   ]
  },
  {
   "cell_type": "code",
   "execution_count": null,
   "id": "b3b0987c",
   "metadata": {},
   "outputs": [],
   "source": [
    "conteggio_type = df['type'].value_counts()\n"
   ]
  }
 ],
 "metadata": {
  "kernelspec": {
   "display_name": "base",
   "language": "python",
   "name": "python3"
  },
  "language_info": {
   "codemirror_mode": {
    "name": "ipython",
    "version": 3
   },
   "file_extension": ".py",
   "mimetype": "text/x-python",
   "name": "python",
   "nbconvert_exporter": "python",
   "pygments_lexer": "ipython3",
   "version": "3.12.7"
  }
 },
 "nbformat": 4,
 "nbformat_minor": 5
}
