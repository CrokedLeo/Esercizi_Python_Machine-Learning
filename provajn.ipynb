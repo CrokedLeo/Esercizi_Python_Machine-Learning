{
 "cells": [
  {
   "cell_type": "markdown",
   "id": "523d60e9",
   "metadata": {},
   "source": [
    "## Esercizio Uno\n",
    "\n",
    "__Scrivete codice per creare:__\n",
    "\n",
    "- Un array unidimensionale di numeri casuali compresi tra 0 e 1;\n",
    "\n",
    "- Un array bidimensionale di dimensione 3x3 con valori interi casuali."
   ]
  },
  {
   "cell_type": "code",
   "execution_count": 7,
   "id": "0512c841",
   "metadata": {},
   "outputs": [],
   "source": [
    "import numpy as np"
   ]
  },
  {
   "cell_type": "markdown",
   "id": "8f72dea2",
   "metadata": {},
   "source": [
    "__Array unidimensionale a caso__"
   ]
  },
  {
   "cell_type": "code",
   "execution_count": 38,
   "id": "d9ce5f20",
   "metadata": {},
   "outputs": [
    {
     "name": "stdout",
     "output_type": "stream",
     "text": [
      "[0.23833156 0.05219201 0.85505398]\n"
     ]
    }
   ],
   "source": [
    "arr_1d = np.random.random(3)\n",
    "print(arr_1d)"
   ]
  },
  {
   "cell_type": "code",
   "execution_count": 27,
   "id": "2936a9a8",
   "metadata": {},
   "outputs": [
    {
     "data": {
      "text/plain": [
       "array([[64, 33, 37],\n",
       "       [14, 12, 35],\n",
       "       [50, 61, 34]], dtype=int32)"
      ]
     },
     "execution_count": 27,
     "metadata": {},
     "output_type": "execute_result"
    }
   ],
   "source": [
    "arr_2d= np.random.randint(10,72, size=(3,3))\n",
    "arr_2d"
   ]
  },
  {
   "cell_type": "markdown",
   "id": "f92e2c6a",
   "metadata": {},
   "source": [
    "## Esercizio Due\n",
    "\n",
    "create uno script per generare 2 array bidimensionali numpy 4x4 con valori interi casuali ed eseguite le seguenti operazioni:\n",
    "\n",
    "- Restituite la somma di tutti gli elementi dei singoli array che si trovano nell'ultima riga dalla seconda colonna in poi\n",
    "\n",
    "- Unite i 2 array secondo l'asse 1"
   ]
  },
  {
   "cell_type": "code",
   "execution_count": 40,
   "id": "ee852667",
   "metadata": {},
   "outputs": [
    {
     "name": "stdout",
     "output_type": "stream",
     "text": [
      "array 1:\n",
      " [[11 90 82  0]\n",
      " [80 72 78 99]\n",
      " [18 19 12 50]\n",
      " [52 26 61 95]]\n",
      "array 2:\n",
      " [[23 54 68 87]\n",
      " [45 98 30 19]\n",
      " [92 88 91 72]\n",
      " [ 4 19 67 94]]\n"
     ]
    }
   ],
   "source": [
    "arr1 = np.random.randint(0, 100, size=(4,4))\n",
    "arr2 = np.random.randint(0, 100, size=(4,4))\n",
    "\n",
    "print(\"array 1:\\n\", arr1)\n",
    "print(\"array 2:\\n\", arr2)"
   ]
  },
  {
   "cell_type": "markdown",
   "id": "104f848d",
   "metadata": {},
   "source": [
    "__Somma tra i due__\n",
    "\n",
    "- Restituite la somma di tutti gli elementi dei singoli array che si trovano nell'ultima riga dalla seconda colonna in poi\n"
   ]
  },
  {
   "cell_type": "code",
   "execution_count": 41,
   "id": "4779e931",
   "metadata": {},
   "outputs": [
    {
     "name": "stdout",
     "output_type": "stream",
     "text": [
      "182\n",
      "180\n",
      "362\n"
     ]
    }
   ],
   "source": [
    "sum1= np.sum(arr1[-1,1:]) #ultima=meno1\n",
    "sum2= np.sum(arr2[-1,1:]) \n",
    "\n",
    "print(sum1)\n",
    "print(sum2)\n",
    "print(sum1+sum2)"
   ]
  },
  {
   "cell_type": "markdown",
   "id": "ddf97d19",
   "metadata": {},
   "source": [
    "__Unire con concatenate__\n",
    "\n",
    "- Unite i 2 array secondo l'asse 1\n",
    "- Unite i 2 array secondo l'asse 0"
   ]
  },
  {
   "cell_type": "code",
   "execution_count": 42,
   "id": "6673fe9f",
   "metadata": {},
   "outputs": [
    {
     "data": {
      "text/plain": [
       "array([[11, 90, 82,  0, 23, 54, 68, 87],\n",
       "       [80, 72, 78, 99, 45, 98, 30, 19],\n",
       "       [18, 19, 12, 50, 92, 88, 91, 72],\n",
       "       [52, 26, 61, 95,  4, 19, 67, 94]], dtype=int32)"
      ]
     },
     "execution_count": 42,
     "metadata": {},
     "output_type": "execute_result"
    }
   ],
   "source": [
    "arr_con= np.concatenate((arr1, arr2), axis=1)\n",
    "\n",
    "arr_con"
   ]
  },
  {
   "cell_type": "code",
   "execution_count": 43,
   "id": "575e8ae7",
   "metadata": {},
   "outputs": [
    {
     "data": {
      "text/plain": [
       "array([[11, 90, 82,  0],\n",
       "       [80, 72, 78, 99],\n",
       "       [18, 19, 12, 50],\n",
       "       [52, 26, 61, 95],\n",
       "       [23, 54, 68, 87],\n",
       "       [45, 98, 30, 19],\n",
       "       [92, 88, 91, 72],\n",
       "       [ 4, 19, 67, 94]], dtype=int32)"
      ]
     },
     "execution_count": 43,
     "metadata": {},
     "output_type": "execute_result"
    }
   ],
   "source": [
    "arr_con= np.concatenate((arr1, arr2), axis=0)\n",
    "\n",
    "arr_con"
   ]
  },
  {
   "cell_type": "markdown",
   "id": "2b4e3adb",
   "metadata": {},
   "source": [
    "## Esercizio Tre\n",
    "\n",
    "__Create 1 array unidimensionale con 50 valori randomici compresi tra 1 e 1.000 e fate i seguenti calcoli:__\n",
    "\n",
    "- Calcolo della media;\n",
    "\n",
    "- Calcolo della mediana;\n",
    "\n",
    "- Calcolo della moda;\n",
    "\n",
    "- Calcolo della deviazione standard;\n",
    "\n",
    "- Trasformatelo in un array 5 X 10\n"
   ]
  },
  {
   "cell_type": "code",
   "execution_count": 56,
   "id": "f7db644c",
   "metadata": {},
   "outputs": [],
   "source": [
    "from scipy import stats"
   ]
  },
  {
   "cell_type": "code",
   "execution_count": 57,
   "id": "6c4898b1",
   "metadata": {},
   "outputs": [
    {
     "data": {
      "text/plain": [
       "array([562, 419, 277,  23, 653, 563, 199, 289, 861, 128, 797, 246, 285,\n",
       "       900, 739, 423, 883, 845, 857, 447, 530, 104, 839, 682, 765, 914,\n",
       "       268, 597,  22, 195, 223, 706, 465, 933, 979, 489, 346, 426, 436,\n",
       "       845, 872, 340, 879, 790, 671, 315, 627,  73, 588, 559], dtype=int32)"
      ]
     },
     "execution_count": 57,
     "metadata": {},
     "output_type": "execute_result"
    }
   ],
   "source": [
    "arr = np.random.randint(1,1000, 50)\n",
    "arr"
   ]
  },
  {
   "cell_type": "markdown",
   "id": "1e1d5e7f",
   "metadata": {},
   "source": [
    "__Calcolo della media, mediana, moda, deviazione__\n"
   ]
  },
  {
   "cell_type": "code",
   "execution_count": 58,
   "id": "d4bda772",
   "metadata": {},
   "outputs": [
    {
     "name": "stdout",
     "output_type": "stream",
     "text": [
      "537.48\n",
      "560.5\n",
      "ModeResult(mode=np.int32(845), count=np.int64(2))\n",
      "273.9837396635063\n"
     ]
    }
   ],
   "source": [
    "media= np.mean(arr)\n",
    "print(media)\n",
    "\n",
    "mediana= np.median(arr)\n",
    "print(mediana)\n",
    "\n",
    "moda = stats.mode(arr)\n",
    "print(moda)\n",
    "\n",
    "dev = np.std(arr)\n",
    "print(dev)"
   ]
  },
  {
   "cell_type": "markdown",
   "id": "59bf5d64",
   "metadata": {},
   "source": [
    "__Trasformatelo in un array 5 X 10__\n"
   ]
  },
  {
   "cell_type": "code",
   "execution_count": 59,
   "id": "ed4fa203",
   "metadata": {},
   "outputs": [
    {
     "name": "stdout",
     "output_type": "stream",
     "text": [
      "[[562 419 277  23 653 563 199 289 861 128]\n",
      " [797 246 285 900 739 423 883 845 857 447]\n",
      " [530 104 839 682 765 914 268 597  22 195]\n",
      " [223 706 465 933 979 489 346 426 436 845]\n",
      " [872 340 879 790 671 315 627  73 588 559]]\n"
     ]
    }
   ],
   "source": [
    "arr_mod = arr.reshape((5,10))\n",
    "print(arr_mod)"
   ]
  },
  {
   "cell_type": "markdown",
   "id": "4694a69c",
   "metadata": {},
   "source": [
    "## Esercizio 4\n",
    "\n",
    "__Descrizione:__\n",
    "Crea un array utilizzando linspace, cambia la sua\n",
    "forma con reshape, genera un array casuale e calcola la somma\n",
    "degli elementi.\n",
    "\n",
    "__Esercizio:__\n",
    "\n",
    "1. Crea un array di 12 numeri equidistanti tra 0 e 1 usando\n",
    "linspace.\n"
   ]
  },
  {
   "cell_type": "code",
   "execution_count": 72,
   "id": "9c29cd4d",
   "metadata": {},
   "outputs": [
    {
     "data": {
      "text/plain": [
       "array([0.  , 0.09, 0.18, 0.27, 0.36, 0.45, 0.55, 0.64, 0.73, 0.82, 0.91,\n",
       "       1.  ])"
      ]
     },
     "execution_count": 72,
     "metadata": {},
     "output_type": "execute_result"
    }
   ],
   "source": [
    "arr_lin = np.linspace(0,1, 12).round(2)\n",
    "arr_lin"
   ]
  },
  {
   "cell_type": "markdown",
   "id": "096d736f",
   "metadata": {},
   "source": [
    "2. Cambia la forma dell'array a una matrice 3x4.\n"
   ]
  },
  {
   "cell_type": "code",
   "execution_count": 73,
   "id": "58e9cb9a",
   "metadata": {},
   "outputs": [
    {
     "data": {
      "text/plain": [
       "array([[0.  , 0.09, 0.18, 0.27],\n",
       "       [0.36, 0.45, 0.55, 0.64],\n",
       "       [0.73, 0.82, 0.91, 1.  ]])"
      ]
     },
     "execution_count": 73,
     "metadata": {},
     "output_type": "execute_result"
    }
   ],
   "source": [
    "mat_lin = arr_lin.reshape(3,4)\n",
    "mat_lin"
   ]
  },
  {
   "cell_type": "markdown",
   "id": "438b9dd9",
   "metadata": {},
   "source": [
    "3. Genera una matrice 3x4 di numeri casuali tra 0 e 1.\n"
   ]
  },
  {
   "cell_type": "code",
   "execution_count": 74,
   "id": "667880e8",
   "metadata": {},
   "outputs": [
    {
     "data": {
      "text/plain": [
       "array([[0.29, 0.98, 0.79, 0.74],\n",
       "       [0.84, 0.19, 0.92, 0.51],\n",
       "       [0.15, 0.18, 0.88, 0.34]])"
      ]
     },
     "execution_count": 74,
     "metadata": {},
     "output_type": "execute_result"
    }
   ],
   "source": [
    "mat_random= np.random.random((3,4)).round(2)\n",
    "mat_random"
   ]
  },
  {
   "cell_type": "markdown",
   "id": "83d309b3",
   "metadata": {},
   "source": [
    "4. Calcola e stampa la somma degli elementi di entrambe le\n",
    "matrici."
   ]
  },
  {
   "cell_type": "code",
   "execution_count": 77,
   "id": "4d304e07",
   "metadata": {},
   "outputs": [
    {
     "name": "stdout",
     "output_type": "stream",
     "text": [
      "6.0\n",
      "6.81\n",
      "12.809999999999999\n"
     ]
    }
   ],
   "source": [
    "sum_lin = np.sum(mat_lin)\n",
    "sum_rand = np.sum(mat_random)\n",
    "\n",
    "print (sum_lin)\n",
    "print (sum_rand)\n",
    "print (sum_lin + sum_rand)"
   ]
  },
  {
   "cell_type": "markdown",
   "id": "37a6004f",
   "metadata": {},
   "source": [
    "## Esercizio 5\n",
    "\n",
    "1. Utilizza np.linspace per creare un array di 50 numeri equidistanti tra 0 e 10.\n",
    "\n",
    "2. Utilizza np.random.random per creare un array di 50 numeri casuali compresi tra 0 e 1."
   ]
  },
  {
   "cell_type": "code",
   "execution_count": 86,
   "id": "61b6c516",
   "metadata": {},
   "outputs": [],
   "source": [
    "arr_uno = np.linspace(0,10,50)\n",
    "\n",
    "arr_due = np.random.random(50)\n",
    "\n",
    "#print(arr_uno,arr_due)"
   ]
  },
  {
   "cell_type": "markdown",
   "id": "bd57d8fa",
   "metadata": {},
   "source": [
    "3. Somma i due array elemento per elemento per ottenere un nuovo array.\n",
    "\n",
    "4. Calcola la somma totale degli elementi del nuovo array.\n"
   ]
  },
  {
   "cell_type": "code",
   "execution_count": null,
   "metadata": {},
   "outputs": [
    {
     "name": "stdout",
     "output_type": "stream",
     "text": [
      "[ 0.04384923  1.19834888  1.24067239  1.53574259  1.41065034  2.015014\n",
      "  1.81986406  1.91328795  1.6421828   2.52344629  2.23042039  2.44344529\n",
      "  3.44008336  2.79837173  2.9278225   3.93022885  3.661381    3.47128754\n",
      "  4.53295323  3.95756098  4.23008172  4.4268415   5.46531454  5.49054099\n",
      "  4.99933315  5.59816012  5.38379069  5.82167386  6.65353228  6.39956333\n",
      "  6.77641654  6.69650113  6.89057372  7.00606226  7.0643792   7.65601171\n",
      "  7.91925755  7.74385324  8.64473528  8.05083988  8.38141033  8.81536494\n",
      "  8.93128642  8.96048222  9.56959608  9.51752771 10.15319895  9.7141864\n",
      " 10.18217346 10.02684324]\n"
     ]
    },
    {
     "data": {
      "text/plain": [
       "np.float64(271.9061458246813)"
      ]
     },
     "execution_count": 88,
     "metadata": {},
     "output_type": "execute_result"
    }
   ],
   "source": [
    "arr_somma = arr_uno + arr_due\n",
    "print(arr_somma)\n",
    "\n",
    "som_tot = np.sum(arr_somma)\n",
    "som_tot"
   ]
  },
  {
   "cell_type": "markdown",
   "id": "ddbe0359",
   "metadata": {},
   "source": [
    "5. Calcola la somma degli elementi del nuovo array che sono maggiori di 5.\n"
   ]
  },
  {
   "cell_type": "code",
   "execution_count": 89,
   "id": "a9eafae5",
   "metadata": {},
   "outputs": [
    {
     "data": {
      "text/plain": [
       "np.float64(209.51327607327264)"
      ]
     },
     "execution_count": 89,
     "metadata": {},
     "output_type": "execute_result"
    }
   ],
   "source": [
    "piu_5 = np.sum(arr_somma[arr_somma > 5])\n",
    "\n",
    "piu_5"
   ]
  },
  {
   "cell_type": "markdown",
   "id": "d0e140b6",
   "metadata": {},
   "source": [
    "6. Stampa gli array originali, il nuovo array risultante dalla somma e le somme calcolate.\n"
   ]
  },
  {
   "cell_type": "code",
   "execution_count": 93,
   "id": "20f4d8fb",
   "metadata": {},
   "outputs": [
    {
     "name": "stdout",
     "output_type": "stream",
     "text": [
      "\n",
      "arry uno con linspace:\n",
      "[ 0.          0.20408163  0.40816327  0.6122449   0.81632653  1.02040816\n",
      "  1.2244898   1.42857143  1.63265306  1.83673469  2.04081633  2.24489796\n",
      "  2.44897959  2.65306122  2.85714286  3.06122449  3.26530612  3.46938776\n",
      "  3.67346939  3.87755102  4.08163265  4.28571429  4.48979592  4.69387755\n",
      "  4.89795918  5.10204082  5.30612245  5.51020408  5.71428571  5.91836735\n",
      "  6.12244898  6.32653061  6.53061224  6.73469388  6.93877551  7.14285714\n",
      "  7.34693878  7.55102041  7.75510204  7.95918367  8.16326531  8.36734694\n",
      "  8.57142857  8.7755102   8.97959184  9.18367347  9.3877551   9.59183673\n",
      "  9.79591837 10.        ]\n",
      "\n",
      "arry due con random:\n",
      "[0.04384923 0.99426724 0.83250912 0.92349769 0.59432381 0.99460584\n",
      " 0.59537426 0.48471652 0.00952974 0.68671159 0.18960406 0.19854733\n",
      " 0.99110377 0.14531051 0.07067964 0.86900436 0.39607487 0.00189979\n",
      " 0.85948384 0.08000996 0.14844906 0.14112721 0.97551862 0.79666344\n",
      " 0.10137396 0.4961193  0.07766824 0.31146978 0.93924657 0.48119598\n",
      " 0.65396756 0.36997052 0.35996148 0.27136839 0.12560369 0.51315457\n",
      " 0.57231878 0.19283284 0.88963324 0.0916562  0.21814503 0.448018\n",
      " 0.35985784 0.18497201 0.59000424 0.33385424 0.76544385 0.12234967\n",
      " 0.38625509 0.02684324]\n",
      "\n",
      "arry risultato somma:\n",
      "[ 0.04384923  1.19834888  1.24067239  1.53574259  1.41065034  2.015014\n",
      "  1.81986406  1.91328795  1.6421828   2.52344629  2.23042039  2.44344529\n",
      "  3.44008336  2.79837173  2.9278225   3.93022885  3.661381    3.47128754\n",
      "  4.53295323  3.95756098  4.23008172  4.4268415   5.46531454  5.49054099\n",
      "  4.99933315  5.59816012  5.38379069  5.82167386  6.65353228  6.39956333\n",
      "  6.77641654  6.69650113  6.89057372  7.00606226  7.0643792   7.65601171\n",
      "  7.91925755  7.74385324  8.64473528  8.05083988  8.38141033  8.81536494\n",
      "  8.93128642  8.96048222  9.56959608  9.51752771 10.15319895  9.7141864\n",
      " 10.18217346 10.02684324]\n",
      "\n",
      "somma totale elementi: 271.9061458246813\n",
      "\n",
      "somma elementi > 5: 209.51327607327264\n"
     ]
    }
   ],
   "source": [
    "\n",
    "print(\"\\narry uno con linspace:\")\n",
    "print(arr_uno)\n",
    "\n",
    "\n",
    "print(\"\\narry due con random:\")\n",
    "print(arr_due)\n",
    "\n",
    "\n",
    "print(\"\\narry risultato somma:\")\n",
    "print(arr_somma)\n",
    "\n",
    "print(f\"\\nsomma totale elementi: {som_tot}\")\n",
    "print(f\"\\nsomma elementi > 5: {piu_5}\")\n",
    "\n"
   ]
  }
 ],
 "metadata": {
  "kernelspec": {
   "display_name": "Python 3",
   "language": "python",
   "name": "python3"
  },
  "language_info": {
   "codemirror_mode": {
    "name": "ipython",
    "version": 3
   },
   "file_extension": ".py",
   "mimetype": "text/x-python",
   "name": "python",
   "nbconvert_exporter": "python",
   "pygments_lexer": "ipython3",
   "version": "3.13.2"
  }
 },
 "nbformat": 4,
 "nbformat_minor": 5
}
