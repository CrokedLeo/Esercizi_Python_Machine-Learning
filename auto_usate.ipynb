{
 "cells": [
  {
   "cell_type": "code",
   "execution_count": null,
   "id": "f76891ee",
   "metadata": {},
   "outputs": [],
   "source": [
    "import pandas as pd"
   ]
  },
  {
   "cell_type": "code",
   "execution_count": null,
   "id": "e7845d08",
   "metadata": {},
   "outputs": [],
   "source": [
    "df_train = pd.read_csv('playground-series-s4e9/train.csv')\n",
    "df_train"
   ]
  },
  {
   "cell_type": "code",
   "execution_count": null,
   "id": "a3ec8bb0",
   "metadata": {},
   "outputs": [],
   "source": [
    "df_train.head()"
   ]
  },
  {
   "cell_type": "code",
   "execution_count": null,
   "id": "f43b084d",
   "metadata": {},
   "outputs": [],
   "source": [
    "df_train.isnull().sum()"
   ]
  },
  {
   "cell_type": "code",
   "execution_count": null,
   "id": "a42de41d",
   "metadata": {},
   "outputs": [],
   "source": [
    "df_test = pd.read_csv('playground-series-s4e9/test.csv')\n",
    "df_test.head()"
   ]
  },
  {
   "cell_type": "code",
   "execution_count": null,
   "id": "4768d76b",
   "metadata": {},
   "outputs": [],
   "source": [
    "df_test.isnull().sum()"
   ]
  },
  {
   "cell_type": "code",
   "execution_count": null,
   "id": "50ada46d",
   "metadata": {},
   "outputs": [],
   "source": [
    "import numpy as np"
   ]
  },
  {
   "cell_type": "code",
   "execution_count": null,
   "id": "3599bbcb",
   "metadata": {},
   "outputs": [],
   "source": [
    "df_train = df_train.drop(columns=['int_col'], axis=1)"
   ]
  },
  {
   "cell_type": "code",
   "execution_count": null,
   "id": "f287f6f9",
   "metadata": {},
   "outputs": [],
   "source": [
    "df_test = df_test.drop(columns=['int_col'], axis=1)"
   ]
  },
  {
   "cell_type": "code",
   "execution_count": null,
   "id": "4c782cdd",
   "metadata": {},
   "outputs": [],
   "source": [
    "df_train[\"fuel_type\"].unique()"
   ]
  },
  {
   "cell_type": "code",
   "execution_count": null,
   "id": "5a0f3f96",
   "metadata": {},
   "outputs": [],
   "source": [
    "from sklearn.impute import SimpleImputer\n",
    "\n",
    "df_train['fuel_type'] = df_train['fuel_type'].replace('–', np.nan)\n",
    "df_train['fuel_type'] = df_train['fuel_type'].replace('not supported', np.nan)\n",
    "#ful_imper = SimpleImputer(strategy='most_frequent')\n",
    "#df_train['fuel_type'] = ful_imper.fit_transform(df_train[['fuel_type']])"
   ]
  },
  {
   "cell_type": "code",
   "execution_count": null,
   "id": "839d2d4f",
   "metadata": {},
   "outputs": [],
   "source": [
    "df_train.isnull().sum()"
   ]
  },
  {
   "cell_type": "code",
   "execution_count": null,
   "id": "9c845e9f",
   "metadata": {},
   "outputs": [],
   "source": [
    "df_test.isnull().sum()"
   ]
  },
  {
   "cell_type": "code",
   "execution_count": null,
   "id": "0bd478ff",
   "metadata": {},
   "outputs": [],
   "source": [
    "def data_from_engine(df_test,df_train):\n",
    "    df_test['horsepower'] = df_test['engine'].str.extract(r'(\\d+.\\d+)(?=HP)').astype(float)\n",
    "    df_train['horsepower'] = df_train['engine'].str.extract(r'(\\d+.\\d+)(?=HP)').astype(float)\n",
    "    df_train['engine_size'] = df_train['engine'].str.extract(r'(\\d+.\\d+)(?=L)').astype(float)\n",
    "    df_test['engine_size'] = df_test['engine'].str.extract(r'(\\d+.\\d+)(?=L)').astype(float)\n",
    "    df_test['cylinders'] = df_test['engine'].str.extract(r'(\\d+)\\s(Cylinder|V\\d|Straight)')[0].astype(float)\n",
    "    df_train['cylinders'] = df_train['engine'].str.extract(r'(\\d+)\\s(Cylinder|V\\d|Straight)')[0].astype(float)\n",
    "    df_train['horsepower'] = round(df_train['horsepower'].fillna(df_train['horsepower'].mean()))\n",
    "    df_test['horsepower'] = round(df_test['horsepower'].fillna(df_test['horsepower'].mean()))\n",
    "    df_train['engine_size'] = round(df_train['engine_size'].fillna(df_train['engine_size'].mean()))\n",
    "    df_test['engine_size'] = round(df_test['engine_size'].fillna(df_test['engine_size'].mean()))\n",
    "    df_test['cylinders'] = round(df_test['cylinders'].fillna(df_test['cylinders'].mean()))\n",
    "    df_train['cylinders'] = round(df_train['cylinders'].fillna(df_train['cylinders'].mean()))\n",
    "    df_train = df_train.drop('engine', axis = 1)\n",
    "    df_test = df_test.drop('engine', axis = 1)\n",
    "    return df_test,df_train"
   ]
  },
  {
   "cell_type": "code",
   "execution_count": null,
   "id": "4b93029f",
   "metadata": {},
   "outputs": [],
   "source": [
    "def pre_precesing(df_test,df_train):\n",
    "    moda = df_train['fuel_type'].mode()[0]\n",
    "    df_train['fuel_type'] = df_train['fuel_type'].fillna(moda)\n",
    "    df_test['fuel_type'] = df_train['fuel_type'].fillna(moda)\n",
    "    df_train['accident'] = df_train['accident'].fillna('None reported')\n",
    "    df_test['accident'] = df_test['accident'].fillna('None reported')\n",
    "    df_train['clean_title'] = df_train['clean_title'].fillna('No')\n",
    "    df_test['clean_title'] = df_test['clean_title'].fillna('No')\n",
    "    df_test,df_train = data_from_engine(df_test,df_train)\n",
    "    return df_test,df_train"
   ]
  },
  {
   "cell_type": "code",
   "execution_count": null,
   "id": "fc9654b6",
   "metadata": {},
   "outputs": [],
   "source": [
    "def clean_transmission(value):\n",
    "    if pd.isna(value):\n",
    "        return 'Other'\n",
    "\n",
    "    val = value.lower()\n",
    "\n",
    "    if 'cvt' in val:\n",
    "        return 'CVT'\n",
    "    elif 'manual' in val or 'm/t' in val or 'manual' in val:\n",
    "        return 'Manual'\n",
    "    elif 'auto-shift' in val or 'dct' in val or 'dual shift' in val:\n",
    "        return 'Dual-Clutch'\n",
    "    elif 'a/t' in val or 'automatic' in val:\n",
    "        return 'Automatic'\n",
    "    elif 'overdrive' in val:\n",
    "        return 'Automatic'\n",
    "    elif 'speed' in val and ('mt' in val or 'm/t' in val):\n",
    "        return 'Manual'\n",
    "    else:\n",
    "        return 'Other'\n",
    "df_train['transmission'] = df_train['transmission'].apply(clean_transmission)"
   ]
  },
  {
   "cell_type": "code",
   "execution_count": null,
   "id": "85316991",
   "metadata": {},
   "outputs": [],
   "source": [
    "df_test, df_train = pre_precesing(df_test,df_train)"
   ]
  },
  {
   "cell_type": "code",
   "execution_count": null,
   "id": "da505438",
   "metadata": {},
   "outputs": [],
   "source": [
    "df_train.isnull().sum()"
   ]
  },
  {
   "cell_type": "code",
   "execution_count": null,
   "id": "b5fa40d7",
   "metadata": {},
   "outputs": [],
   "source": [
    "df_test.isnull().sum()"
   ]
  },
  {
   "cell_type": "code",
   "execution_count": null,
   "id": "484d55e5",
   "metadata": {},
   "outputs": [],
   "source": [
    "df_test['fuel_type'].unique()"
   ]
  },
  {
   "cell_type": "code",
   "execution_count": null,
   "id": "e35d2069",
   "metadata": {},
   "outputs": [],
   "source": [
    "df_test['accident'].unique()"
   ]
  },
  {
   "cell_type": "code",
   "execution_count": null,
   "id": "a9b4d152",
   "metadata": {},
   "outputs": [],
   "source": [
    "df_train"
   ]
  },
  {
   "cell_type": "code",
   "execution_count": null,
   "id": "96a80fed",
   "metadata": {},
   "outputs": [],
   "source": [
    "df_train['brand'].unique()"
   ]
  },
  {
   "cell_type": "code",
   "execution_count": null,
   "id": "3d149e65",
   "metadata": {},
   "outputs": [],
   "source": [
    "df_train['model'].unique()"
   ]
  },
  {
   "cell_type": "code",
   "execution_count": null,
   "id": "c352dbc3",
   "metadata": {},
   "outputs": [],
   "source": [
    "from sklearn.calibration import LabelEncoder\n",
    "\n",
    "\n",
    "label_encoder = LabelEncoder()\n",
    "df_train['model'] = label_encoder.fit_transform(df_train['model'])\n",
    "df_train['model']"
   ]
  },
  {
   "cell_type": "code",
   "execution_count": null,
   "id": "6025bba8",
   "metadata": {},
   "outputs": [],
   "source": [
    "df_train['brand'] = label_encoder.fit_transform(df_train['brand'])\n",
    "df_train['brand']"
   ]
  },
  {
   "cell_type": "code",
   "execution_count": null,
   "id": "60ae7faa",
   "metadata": {},
   "outputs": [],
   "source": [
    "df_test['model'] = label_encoder.fit_transform(df_test['model'])\n",
    "df_test['model']"
   ]
  },
  {
   "cell_type": "code",
   "execution_count": null,
   "id": "b3c9bb02",
   "metadata": {},
   "outputs": [],
   "source": [
    "df_test['brand'] = label_encoder.fit_transform(df_test['brand'])\n",
    "df_test['brand']"
   ]
  },
  {
   "cell_type": "code",
   "execution_count": null,
   "id": "f56cb23a",
   "metadata": {},
   "outputs": [],
   "source": [
    "df_train.dtypes"
   ]
  },
  {
   "cell_type": "code",
   "execution_count": null,
   "id": "31ea71c7",
   "metadata": {},
   "outputs": [],
   "source": [
    "X = df_train.drop('price', axis=1)\n",
    "y = df_train['price']\n",
    "\n",
    "from sklearn.model_selection import train_test_split\n",
    "X_train, X_test, y_train, y_test = train_test_split(X, y, test_size=0.2, random_state=42)\n",
    "\n",
    "from sklearn.preprocessing import OneHotEncoder\n",
    "from sklearn.compose import ColumnTransformer\n",
    "\n",
    "categorical_cols = X.select_dtypes(include='object').columns\n",
    "\n",
    "encoder = ColumnTransformer(\n",
    "    transformers=[\n",
    "        ('onehot', OneHotEncoder(handle_unknown='ignore', drop='first'), categorical_cols)\n",
    "    ],\n",
    "    remainder='passthrough'  # lascia le altre colonne intatte\n",
    ")\n",
    "\n",
    "X_train_encoded = encoder.fit_transform(X_train)\n",
    "X_test_encoded = encoder.transform(X_test)\n"
   ]
  },
  {
   "cell_type": "code",
   "execution_count": null,
   "id": "3e97317b",
   "metadata": {},
   "outputs": [],
   "source": [
    "from sklearn.discriminant_analysis import StandardScaler\n",
    "from sklearn.linear_model import Ridge\n",
    "from sklearn.pipeline import Pipeline\n",
    "from sklearn.preprocessing import PolynomialFeatures\n",
    "\n",
    "\n",
    "pipe = Pipeline([\n",
    "    ('encode', encoder),\n",
    "    ('scale', StandardScaler(with_mean = False)),\n",
    "    ('poly', PolynomialFeatures(include_bias=False)),\n",
    "    ('model', Ridge())  # Ridgeaggio per ridurre overfitting\n",
    "])"
   ]
  },
  {
   "cell_type": "code",
   "execution_count": null,
   "id": "8ae49049",
   "metadata": {},
   "outputs": [],
   "source": [
    "import scipy.stats as st\n",
    "param_dist = {\n",
    "    'poly__degree': st.randint(1, 4),   # grado tra 1 e 3\n",
    "    'model__alpha': st.loguniform(1e-3, 1e2)  # regolarizzazione log‑uniforme\n",
    "}"
   ]
  },
  {
   "cell_type": "code",
   "execution_count": null,
   "id": "ec85aef6",
   "metadata": {},
   "outputs": [],
   "source": [
    "from sklearn.model_selection import RandomizedSearchCV\n",
    "\n",
    "\n",
    "search = RandomizedSearchCV(\n",
    "    pipe,\n",
    "    param_distributions=param_dist,\n",
    "    n_iter=20,              \n",
    "    scoring='neg_mean_squared_error',\n",
    "    cv=5,\n",
    "    random_state=42,\n",
    "    n_jobs=-1\n",
    ")"
   ]
  },
  {
   "cell_type": "code",
   "execution_count": null,
   "id": "42dec96e",
   "metadata": {},
   "outputs": [],
   "source": [
    "search.fit(X_train, y_train)\n",
    "\n",
    "print(\"Migliori parametri:\", search.best_params_)\n",
    "print(\"Best CV RMSE:\", np.sqrt(-search.best_score_))"
   ]
  },
  {
   "cell_type": "code",
   "execution_count": null,
   "id": "5d23d5ac",
   "metadata": {},
   "outputs": [],
   "source": []
  }
 ],
 "metadata": {
  "kernelspec": {
   "display_name": "base",
   "language": "python",
   "name": "python3"
  },
  "language_info": {
   "codemirror_mode": {
    "name": "ipython",
    "version": 3
   },
   "file_extension": ".py",
   "mimetype": "text/x-python",
   "name": "python",
   "nbconvert_exporter": "python",
   "pygments_lexer": "ipython3",
   "version": "3.12.7"
  }
 },
 "nbformat": 4,
 "nbformat_minor": 5
}
